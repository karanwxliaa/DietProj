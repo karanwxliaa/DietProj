{
 "cells": [
  {
   "cell_type": "code",
   "execution_count": 1,
   "metadata": {},
   "outputs": [],
   "source": [
    "import numpy as np\n",
    "import pandas as pd\n",
    "import seaborn as sns\n",
    "import matplotlib.pyplot as plt\n",
    "from tqdm import tqdm\n",
    "from sklearn.preprocessing import MinMaxScaler as MMS\n",
    "from sklearn.preprocessing import StandardScaler as SS\n",
    "import re\n",
    "import random\n",
    "from sklearn.model_selection import train_test_split\n",
    "from sklearn.linear_model import LinearRegression\n",
    "from sklearn.linear_model import ElasticNet\n",
    "from sklearn.ensemble import RandomForestRegressor\n",
    "from sklearn.ensemble import GradientBoostingRegressor\n",
    "from sklearn.ensemble import AdaBoostRegressor\n",
    "from sklearn import metrics\n",
    "from sklearn.discriminant_analysis import LinearDiscriminantAnalysis as LDA\n",
    "from sklearn.discriminant_analysis import QuadraticDiscriminantAnalysis as QDA\n",
    "from sklearn.decomposition import PCA\n",
    "from sklearn.gaussian_process import GaussianProcessRegressor\n",
    "from sklearn.linear_model import LogisticRegression\n",
    "from sklearn.gaussian_process.kernels import DotProduct, WhiteKernel\n",
    "from sklearn.feature_selection import RFE\n",
    "from sklearn.svm import SVR"
   ]
  },
  {
   "cell_type": "code",
   "execution_count": 2,
   "metadata": {},
   "outputs": [],
   "source": [
    "ss=SS()"
   ]
  },
  {
   "cell_type": "code",
   "execution_count": 3,
   "metadata": {},
   "outputs": [],
   "source": [
    "fh=open('./chometrics.txt','a')\n",
    "#fh.write('TARGET - CHOLESTROL - METRICS')"
   ]
  },
  {
   "cell_type": "code",
   "execution_count": 5,
   "metadata": {},
   "outputs": [],
   "source": [
    "df=pd.read_csv('train_data_329x19.csv')\n",
    "df.drop(axis=1,labels='Unnamed: 0',inplace=True)\n",
    "df.dropna(axis=0,inplace=True)\n",
    "df.reset_index(drop=True,inplace=True)\n",
    "x=df.iloc[:,:13]\n",
    "\n",
    "y=df.iloc[:,14:15]\n",
    "\n"
   ]
  },
  {
   "cell_type": "code",
   "execution_count": 6,
   "metadata": {},
   "outputs": [
    {
     "data": {
      "text/html": [
       "<div>\n",
       "<style scoped>\n",
       "    .dataframe tbody tr th:only-of-type {\n",
       "        vertical-align: middle;\n",
       "    }\n",
       "\n",
       "    .dataframe tbody tr th {\n",
       "        vertical-align: top;\n",
       "    }\n",
       "\n",
       "    .dataframe thead th {\n",
       "        text-align: right;\n",
       "    }\n",
       "</style>\n",
       "<table border=\"1\" class=\"dataframe\">\n",
       "  <thead>\n",
       "    <tr style=\"text-align: right;\">\n",
       "      <th></th>\n",
       "      <th>cho</th>\n",
       "    </tr>\n",
       "  </thead>\n",
       "  <tbody>\n",
       "    <tr>\n",
       "      <th>count</th>\n",
       "      <td>325.000000</td>\n",
       "    </tr>\n",
       "    <tr>\n",
       "      <th>mean</th>\n",
       "      <td>235.395385</td>\n",
       "    </tr>\n",
       "    <tr>\n",
       "      <th>std</th>\n",
       "      <td>112.675699</td>\n",
       "    </tr>\n",
       "    <tr>\n",
       "      <th>min</th>\n",
       "      <td>164.000000</td>\n",
       "    </tr>\n",
       "    <tr>\n",
       "      <th>25%</th>\n",
       "      <td>209.000000</td>\n",
       "    </tr>\n",
       "    <tr>\n",
       "      <th>50%</th>\n",
       "      <td>221.000000</td>\n",
       "    </tr>\n",
       "    <tr>\n",
       "      <th>75%</th>\n",
       "      <td>250.000000</td>\n",
       "    </tr>\n",
       "    <tr>\n",
       "      <th>max</th>\n",
       "      <td>2180.000000</td>\n",
       "    </tr>\n",
       "  </tbody>\n",
       "</table>\n",
       "</div>"
      ],
      "text/plain": [
       "               cho\n",
       "count   325.000000\n",
       "mean    235.395385\n",
       "std     112.675699\n",
       "min     164.000000\n",
       "25%     209.000000\n",
       "50%     221.000000\n",
       "75%     250.000000\n",
       "max    2180.000000"
      ]
     },
     "execution_count": 6,
     "metadata": {},
     "output_type": "execute_result"
    }
   ],
   "source": [
    "y.describe()"
   ]
  },
  {
   "cell_type": "code",
   "execution_count": 7,
   "metadata": {},
   "outputs": [],
   "source": [
    "\n",
    "y.loc[y.cho>2000]\n",
    "y.replace(to_replace=2180.0,value=218,inplace=True)"
   ]
  },
  {
   "cell_type": "markdown",
   "metadata": {},
   "source": [
    "# TEST TRAIN SPLIT"
   ]
  },
  {
   "cell_type": "code",
   "execution_count": 8,
   "metadata": {},
   "outputs": [],
   "source": [
    "x_train,x_test,y_train,y_test=train_test_split(x,y,test_size=0.2,random_state=1);"
   ]
  },
  {
   "cell_type": "code",
   "execution_count": 9,
   "metadata": {},
   "outputs": [],
   "source": [
    "lr=LinearRegression(fit_intercept=True)\n",
    "en=ElasticNet()\n",
    "rf=RandomForestRegressor(n_estimators=500,max_depth=4,criterion='squared_error')\n",
    "ab=AdaBoostRegressor()\n",
    "gb=GradientBoostingRegressor(n_estimators=700,max_depth=1,loss='huber',alpha=0.45,criterion='squared_error',learning_rate=0.1)\n",
    "pca=PCA(whiten=True)\n",
    "lda=LDA()\n",
    "gpr=GaussianProcessRegressor(kernel=WhiteKernel()+DotProduct())\n",
    "svr=SVR(kernel='rbf')"
   ]
  },
  {
   "cell_type": "code",
   "execution_count": 10,
   "metadata": {},
   "outputs": [
    {
     "name": "stderr",
     "output_type": "stream",
     "text": [
      "/var/folders/66/s73qmzcx7sjf3xf980ph69tc0000gn/T/ipykernel_2343/1641303734.py:3: DataConversionWarning: A column-vector y was passed when a 1d array was expected. Please change the shape of y to (n_samples,), for example using ravel().\n",
      "  rf.fit(ss.fit_transform(x_train),ss.fit_transform(y_train))\n",
      "/Users/aryanodugoudar/miniforge3/lib/python3.9/site-packages/sklearn/utils/validation.py:993: DataConversionWarning: A column-vector y was passed when a 1d array was expected. Please change the shape of y to (n_samples, ), for example using ravel().\n",
      "  y = column_or_1d(y, warn=True)\n",
      "/Users/aryanodugoudar/miniforge3/lib/python3.9/site-packages/sklearn/ensemble/_gb.py:494: DataConversionWarning: A column-vector y was passed when a 1d array was expected. Please change the shape of y to (n_samples, ), for example using ravel().\n",
      "  y = column_or_1d(y, warn=True)\n",
      "/Users/aryanodugoudar/miniforge3/lib/python3.9/site-packages/sklearn/utils/validation.py:993: DataConversionWarning: A column-vector y was passed when a 1d array was expected. Please change the shape of y to (n_samples, ), for example using ravel().\n",
      "  y = column_or_1d(y, warn=True)\n"
     ]
    },
    {
     "data": {
      "text/plain": [
       "SVR()"
      ]
     },
     "execution_count": 10,
     "metadata": {},
     "output_type": "execute_result"
    }
   ],
   "source": [
    "lr.fit(ss.fit_transform(x_train),ss.fit_transform(y_train))\n",
    "en.fit(ss.fit_transform(x_train),ss.fit_transform(y_train))\n",
    "rf.fit(ss.fit_transform(x_train),ss.fit_transform(y_train))\n",
    "ab.fit(ss.fit_transform(x_train),ss.fit_transform(y_train))\n",
    "gb.fit(ss.fit_transform(x_train),ss.fit_transform(y_train))\n",
    "pca.fit(ss.fit_transform(x_train),ss.fit_transform(y_train))\n",
    "#lda.fit(x_tr,y_tr.values.reshape(-1,1))\n",
    "gpr.fit(ss.fit_transform(x_train),ss.fit_transform(y_train))\n",
    "svr.fit(ss.fit_transform(x_train),ss.fit_transform(y_train))"
   ]
  },
  {
   "cell_type": "markdown",
   "metadata": {},
   "source": [
    "# TRAIN ACC BEFORE SELECTION"
   ]
  },
  {
   "cell_type": "code",
   "execution_count": 11,
   "metadata": {},
   "outputs": [
    {
     "name": "stdout",
     "output_type": "stream",
     "text": [
      "TRAIN ACC:\n",
      "LR acc:  0.5787170891128293\n",
      "ElasticNet acc:  0.018006084356398944\n",
      "RandomForest acc:  0.844884736990038\n",
      "AdaBoost acc:  0.7714375736037733\n",
      "GradientBoost acc:  0.7766225153124899\n",
      "PCA acc:  -19.808963792030557\n",
      "GPR acc:  0.578712366303713\n",
      "SVR acc:  0.7027990828207022\n"
     ]
    }
   ],
   "source": [
    "print(\"TRAIN ACC:\")\n",
    "fh.write(\"TRAIN ACC - BEFORE FEATURE SELECTION:\\n\")\n",
    "print('LR acc: ',lr.score(ss.fit_transform(x_train),ss.fit_transform(y_train)))\n",
    "print('ElasticNet acc: ',en.score(ss.fit_transform(x_train),ss.fit_transform(y_train)))\n",
    "print('RandomForest acc: ',rf.score(ss.fit_transform(x_train),ss.fit_transform(y_train)))\n",
    "print('AdaBoost acc: ',ab.score(ss.fit_transform(x_train),ss.fit_transform(y_train)))\n",
    "print('GradientBoost acc: ',gb.score(ss.fit_transform(x_train),ss.fit_transform(y_train)))\n",
    "fh.write(\"Gradient Boosting acc: \"+str(gb.score(ss.fit_transform(x_train),ss.fit_transform(y_train)))+\"\\n\")\n",
    "\n",
    "print(\"PCA acc: \",pca.score(ss.fit_transform(x_train),ss.fit_transform(y_train)))\n",
    "print(\"GPR acc: \",gpr.score(ss.fit_transform(x_train),ss.fit_transform(y_train)))\n",
    "print(\"SVR acc: \",svr.score(ss.fit_transform(x_train),ss.fit_transform(y_train)))\n"
   ]
  },
  {
   "cell_type": "markdown",
   "metadata": {},
   "source": [
    "# TEST ACC BEFORE SELECTION"
   ]
  },
  {
   "cell_type": "code",
   "execution_count": 12,
   "metadata": {},
   "outputs": [
    {
     "name": "stdout",
     "output_type": "stream",
     "text": [
      "TEST ACC:\n",
      "LR acc:  0.5188263553077903\n",
      "ElasticNet acc:  0.024959376035805336\n",
      "RandomForest acc:  0.5271331603873884\n",
      "AdaBoost acc:  0.5302392373040152\n",
      "GradientBoost acc:  0.6785337122649242\n",
      "PCA acc:  -29.289681240235907\n",
      "GPR acc:  0.5202245313592531\n",
      "SVR acc:  0.5545401672231836\n"
     ]
    }
   ],
   "source": [
    "print(\"TEST ACC:\")\n",
    "fh.write(\"TEST ACC - BEFORE FEATURE SELECTION:\\n\")\n",
    "\n",
    "print('LR acc: ',lr.score(ss.fit_transform(x_test),ss.fit_transform(y_test)))\n",
    "print('ElasticNet acc: ',en.score(ss.fit_transform(x_test),ss.fit_transform(y_test)))\n",
    "print('RandomForest acc: ',rf.score(ss.fit_transform(x_test),ss.fit_transform(y_test)))\n",
    "print('AdaBoost acc: ',ab.score(ss.fit_transform(x_test),ss.fit_transform(y_test)))\n",
    "print('GradientBoost acc: ',gb.score(ss.fit_transform(x_test),ss.fit_transform(y_test)))\n",
    "fh.write(\"Gradient Boosting acc: \"+str(gb.score(ss.fit_transform(x_test),ss.fit_transform(y_test)))+\"\\n\")\n",
    "print(\"PCA acc: \",pca.score(ss.fit_transform(x_test),ss.fit_transform(y_test)))\n",
    "print(\"GPR acc: \",gpr.score(ss.fit_transform(x_test),ss.fit_transform(y_test)))\n",
    "print(\"SVR acc: \",svr.score(ss.fit_transform(x_test),ss.fit_transform(y_test)))\n"
   ]
  },
  {
   "cell_type": "code",
   "execution_count": 13,
   "metadata": {},
   "outputs": [
    {
     "data": {
      "text/plain": [
       "0.3214662877350758"
      ]
     },
     "execution_count": 13,
     "metadata": {},
     "output_type": "execute_result"
    }
   ],
   "source": [
    "metrics.mean_squared_error(ss.fit_transform(y_test),gb.predict(ss.fit_transform(x_test)))"
   ]
  },
  {
   "cell_type": "markdown",
   "metadata": {},
   "source": [
    "# FEATURE SELECTION:"
   ]
  },
  {
   "cell_type": "code",
   "execution_count": 14,
   "metadata": {},
   "outputs": [
    {
     "name": "stderr",
     "output_type": "stream",
     "text": [
      "/Users/aryanodugoudar/miniforge3/lib/python3.9/site-packages/sklearn/ensemble/_gb.py:494: DataConversionWarning: A column-vector y was passed when a 1d array was expected. Please change the shape of y to (n_samples, ), for example using ravel().\n",
      "  y = column_or_1d(y, warn=True)\n",
      "/Users/aryanodugoudar/miniforge3/lib/python3.9/site-packages/sklearn/ensemble/_gb.py:494: DataConversionWarning: A column-vector y was passed when a 1d array was expected. Please change the shape of y to (n_samples, ), for example using ravel().\n",
      "  y = column_or_1d(y, warn=True)\n",
      "/Users/aryanodugoudar/miniforge3/lib/python3.9/site-packages/sklearn/ensemble/_gb.py:494: DataConversionWarning: A column-vector y was passed when a 1d array was expected. Please change the shape of y to (n_samples, ), for example using ravel().\n",
      "  y = column_or_1d(y, warn=True)\n",
      "/Users/aryanodugoudar/miniforge3/lib/python3.9/site-packages/sklearn/ensemble/_gb.py:494: DataConversionWarning: A column-vector y was passed when a 1d array was expected. Please change the shape of y to (n_samples, ), for example using ravel().\n",
      "  y = column_or_1d(y, warn=True)\n",
      "/Users/aryanodugoudar/miniforge3/lib/python3.9/site-packages/sklearn/ensemble/_gb.py:494: DataConversionWarning: A column-vector y was passed when a 1d array was expected. Please change the shape of y to (n_samples, ), for example using ravel().\n",
      "  y = column_or_1d(y, warn=True)\n",
      "/Users/aryanodugoudar/miniforge3/lib/python3.9/site-packages/sklearn/ensemble/_gb.py:494: DataConversionWarning: A column-vector y was passed when a 1d array was expected. Please change the shape of y to (n_samples, ), for example using ravel().\n",
      "  y = column_or_1d(y, warn=True)\n",
      "/Users/aryanodugoudar/miniforge3/lib/python3.9/site-packages/sklearn/ensemble/_gb.py:494: DataConversionWarning: A column-vector y was passed when a 1d array was expected. Please change the shape of y to (n_samples, ), for example using ravel().\n",
      "  y = column_or_1d(y, warn=True)\n",
      "/Users/aryanodugoudar/miniforge3/lib/python3.9/site-packages/sklearn/ensemble/_gb.py:494: DataConversionWarning: A column-vector y was passed when a 1d array was expected. Please change the shape of y to (n_samples, ), for example using ravel().\n",
      "  y = column_or_1d(y, warn=True)\n"
     ]
    },
    {
     "name": "stdout",
     "output_type": "stream",
     "text": [
      "patient_age 35.678792482679945\n",
      "patient_gender 24.862998519860746\n",
      "Ht 0.2910329081626234\n",
      "Wt 35.040038967521156\n",
      "HB 0.645952474908216\n",
      "UREA 0.9923822842732537\n",
      "CR 0.26352375671170253\n",
      "Na 0.4515875163761663\n",
      "K 0.15167542344647483\n",
      "FBS 0.004014947423009022\n",
      "HBA1C 0.6792097632324421\n",
      "SGOT 0.32285969911410306\n",
      "SGPT 0.6159312562901677\n"
     ]
    },
    {
     "data": {
      "text/plain": [
       "array([1, 1, 5, 1, 1, 1, 6, 3, 7, 8, 2, 4, 1])"
      ]
     },
     "execution_count": 14,
     "metadata": {},
     "output_type": "execute_result"
    }
   ],
   "source": [
    "rfe=RFE(gb,n_features_to_select=None)\n",
    "rfe.fit(x_train,y_train)\n",
    "for h,i in enumerate(gb.feature_importances_):\n",
    "    #print(y.columns[h],i)\n",
    "    print(df.columns[h],i*100)\n",
    "rfe.ranking_"
   ]
  },
  {
   "cell_type": "code",
   "execution_count": 15,
   "metadata": {},
   "outputs": [],
   "source": [
    "x_train.drop(labels=['Ht','HB','Na','FBS','HBA1C','SGOT','SGPT'],inplace=True,axis=1)\n",
    "x_test.drop(labels=['Ht','HB','Na','FBS','HBA1C','SGOT','SGPT'],inplace=True,axis=1)"
   ]
  },
  {
   "cell_type": "markdown",
   "metadata": {},
   "source": [
    "# AFTER FEATURE SELECTION "
   ]
  },
  {
   "cell_type": "code",
   "execution_count": 16,
   "metadata": {},
   "outputs": [
    {
     "name": "stderr",
     "output_type": "stream",
     "text": [
      "/var/folders/66/s73qmzcx7sjf3xf980ph69tc0000gn/T/ipykernel_2343/1641303734.py:3: DataConversionWarning: A column-vector y was passed when a 1d array was expected. Please change the shape of y to (n_samples,), for example using ravel().\n",
      "  rf.fit(ss.fit_transform(x_train),ss.fit_transform(y_train))\n",
      "/Users/aryanodugoudar/miniforge3/lib/python3.9/site-packages/sklearn/utils/validation.py:993: DataConversionWarning: A column-vector y was passed when a 1d array was expected. Please change the shape of y to (n_samples, ), for example using ravel().\n",
      "  y = column_or_1d(y, warn=True)\n",
      "/Users/aryanodugoudar/miniforge3/lib/python3.9/site-packages/sklearn/ensemble/_gb.py:494: DataConversionWarning: A column-vector y was passed when a 1d array was expected. Please change the shape of y to (n_samples, ), for example using ravel().\n",
      "  y = column_or_1d(y, warn=True)\n",
      "/Users/aryanodugoudar/miniforge3/lib/python3.9/site-packages/sklearn/utils/validation.py:993: DataConversionWarning: A column-vector y was passed when a 1d array was expected. Please change the shape of y to (n_samples, ), for example using ravel().\n",
      "  y = column_or_1d(y, warn=True)\n"
     ]
    },
    {
     "data": {
      "text/plain": [
       "SVR()"
      ]
     },
     "execution_count": 16,
     "metadata": {},
     "output_type": "execute_result"
    }
   ],
   "source": [
    "lr.fit(ss.fit_transform(x_train),ss.fit_transform(y_train))\n",
    "en.fit(ss.fit_transform(x_train),ss.fit_transform(y_train))\n",
    "rf.fit(ss.fit_transform(x_train),ss.fit_transform(y_train))\n",
    "ab.fit(ss.fit_transform(x_train),ss.fit_transform(y_train))\n",
    "gb.fit(ss.fit_transform(x_train),ss.fit_transform(y_train))\n",
    "pca.fit(ss.fit_transform(x_train),ss.fit_transform(y_train))\n",
    "#lda.fit(x_tr,y_tr.values.reshape(-1,1))\n",
    "gpr.fit(ss.fit_transform(x_train),ss.fit_transform(y_train))\n",
    "svr.fit(ss.fit_transform(x_train),ss.fit_transform(y_train))"
   ]
  },
  {
   "cell_type": "markdown",
   "metadata": {},
   "source": [
    "# TRAIN ACC AFTER FEATURE SELECTION"
   ]
  },
  {
   "cell_type": "code",
   "execution_count": 17,
   "metadata": {},
   "outputs": [
    {
     "name": "stdout",
     "output_type": "stream",
     "text": [
      "TRAIN ACC:\n",
      "LR acc:  0.5265271286294202\n",
      "ElasticNet acc:  0.018006084356398944\n",
      "RandomForest acc:  0.8475141071515604\n",
      "AdaBoost acc:  0.7142888846905809\n",
      "GradientBoost acc:  0.7694508926140355\n",
      "PCA acc:  -8.514666353915356\n",
      "GPR acc:  0.5265252792268453\n",
      "SVR acc:  0.6791156497851033\n"
     ]
    }
   ],
   "source": [
    "print(\"TRAIN ACC:\")\n",
    "fh.write(\"TRAIN ACC - AFTER FEATURE SELECTION:\\n\")\n",
    "print('LR acc: ',lr.score(ss.fit_transform(x_train),ss.fit_transform(y_train)))\n",
    "print('ElasticNet acc: ',en.score(ss.fit_transform(x_train),ss.fit_transform(y_train)))\n",
    "print('RandomForest acc: ',rf.score(ss.fit_transform(x_train),ss.fit_transform(y_train)))\n",
    "print('AdaBoost acc: ',ab.score(ss.fit_transform(x_train),ss.fit_transform(y_train)))\n",
    "print('GradientBoost acc: ',gb.score(ss.fit_transform(x_train),ss.fit_transform(y_train)))\n",
    "fh.write(\"Gradient Boosting acc: \"+str(gb.score(ss.fit_transform(x_train),ss.fit_transform(y_train)))+\"\\n\")\n",
    "print(\"PCA acc: \",pca.score(ss.fit_transform(x_train),ss.fit_transform(y_train)))\n",
    "print(\"GPR acc: \",gpr.score(ss.fit_transform(x_train),ss.fit_transform(y_train)))\n",
    "print(\"SVR acc: \",svr.score(ss.fit_transform(x_train),ss.fit_transform(y_train)))\n"
   ]
  },
  {
   "cell_type": "markdown",
   "metadata": {},
   "source": [
    "# TEST ACC AFTER FEATURE SELECTION"
   ]
  },
  {
   "cell_type": "code",
   "execution_count": 18,
   "metadata": {},
   "outputs": [
    {
     "name": "stdout",
     "output_type": "stream",
     "text": [
      "TEST ACC:\n",
      "LR acc:  0.6678625758358576\n",
      "ElasticNet acc:  0.024959376035805336\n",
      "RandomForest acc:  0.5351244812898448\n",
      "AdaBoost acc:  0.5416926519109384\n",
      "GradientBoost acc:  0.7224555597940518\n",
      "PCA acc:  -8.550538442413147\n",
      "GPR acc:  0.66780956727829\n",
      "SVR acc:  0.591972645516812\n"
     ]
    }
   ],
   "source": [
    "print(\"TEST ACC:\")\n",
    "fh.write(\"TEST ACC - AFTER FEATURE SELECTION:\\n\")\n",
    "\n",
    "print('LR acc: ',lr.score(ss.fit_transform(x_test),ss.fit_transform(y_test)))\n",
    "print('ElasticNet acc: ',en.score(ss.fit_transform(x_test),ss.fit_transform(y_test)))\n",
    "print('RandomForest acc: ',rf.score(ss.fit_transform(x_test),ss.fit_transform(y_test)))\n",
    "print('AdaBoost acc: ',ab.score(ss.fit_transform(x_test),ss.fit_transform(y_test)))\n",
    "print('GradientBoost acc: ',gb.score(ss.fit_transform(x_test),ss.fit_transform(y_test)))\n",
    "fh.write(\"Gradient Boosting acc: \"+str(gb.score(ss.fit_transform(x_test),ss.fit_transform(y_test)))+\"\\n\")\n",
    "print(\"PCA acc: \",pca.score(ss.fit_transform(x_test),ss.fit_transform(y_test)))\n",
    "print(\"GPR acc: \",gpr.score(ss.fit_transform(x_test),ss.fit_transform(y_test)))\n",
    "print(\"SVR acc: \",svr.score(ss.fit_transform(x_test),ss.fit_transform(y_test)))\n"
   ]
  },
  {
   "cell_type": "code",
   "execution_count": 19,
   "metadata": {},
   "outputs": [],
   "source": [
    "gb_mse = metrics.mean_squared_error(ss.fit_transform(y_test),gb.predict(ss.fit_transform(x_test)))"
   ]
  },
  {
   "cell_type": "code",
   "execution_count": 20,
   "metadata": {},
   "outputs": [
    {
     "data": {
      "text/plain": [
       "0.27754444020594815"
      ]
     },
     "execution_count": 20,
     "metadata": {},
     "output_type": "execute_result"
    }
   ],
   "source": [
    "gb_mse"
   ]
  }
 ],
 "metadata": {
  "kernelspec": {
   "display_name": "Python 3.9.13 ('base')",
   "language": "python",
   "name": "python3"
  },
  "language_info": {
   "codemirror_mode": {
    "name": "ipython",
    "version": 3
   },
   "file_extension": ".py",
   "mimetype": "text/x-python",
   "name": "python",
   "nbconvert_exporter": "python",
   "pygments_lexer": "ipython3",
   "version": "3.9.13"
  },
  "orig_nbformat": 4,
  "vscode": {
   "interpreter": {
    "hash": "0aa08dac22471d1a6953e267da4955297e2436dbb3fc879a8e4932691e48480f"
   }
  }
 },
 "nbformat": 4,
 "nbformat_minor": 2
}
