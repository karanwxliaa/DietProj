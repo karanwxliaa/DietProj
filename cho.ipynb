{
 "cells": [
  {
   "cell_type": "code",
   "execution_count": 1184,
   "metadata": {},
   "outputs": [],
   "source": [
    "import numpy as np\n",
    "import pandas as pd\n",
    "import seaborn as sns\n",
    "import matplotlib.pyplot as plt\n",
    "from tqdm import tqdm\n",
    "from sklearn.preprocessing import MinMaxScaler as MMS\n",
    "from sklearn.preprocessing import StandardScaler as SS\n",
    "import re\n",
    "import random\n",
    "from sklearn.model_selection import train_test_split\n",
    "from sklearn.linear_model import LinearRegression\n",
    "from sklearn.linear_model import ElasticNet\n",
    "from sklearn.ensemble import RandomForestRegressor\n",
    "from sklearn.ensemble import GradientBoostingRegressor\n",
    "from sklearn.ensemble import AdaBoostRegressor\n",
    "from sklearn import metrics\n",
    "from sklearn.discriminant_analysis import LinearDiscriminantAnalysis as LDA\n",
    "from sklearn.discriminant_analysis import QuadraticDiscriminantAnalysis as QDA\n",
    "from sklearn.decomposition import PCA\n",
    "from sklearn.gaussian_process import GaussianProcessRegressor\n",
    "from sklearn.linear_model import LogisticRegression\n",
    "from sklearn.gaussian_process.kernels import DotProduct, WhiteKernel\n",
    "from sklearn.feature_selection import RFE\n",
    "from sklearn.svm import SVR"
   ]
  },
  {
   "cell_type": "code",
   "execution_count": 1185,
   "metadata": {},
   "outputs": [],
   "source": [
    "ss=SS()"
   ]
  },
  {
   "cell_type": "code",
   "execution_count": 1186,
   "metadata": {},
   "outputs": [],
   "source": [
    "fh=open('./chometrics.txt','a')\n",
    "#fh.write('TARGET - CHOLESTROL - METRICS')"
   ]
  },
  {
   "cell_type": "code",
   "execution_count": 1187,
   "metadata": {},
   "outputs": [],
   "source": [
    "df=pd.read_csv('../train_data_329x19.csv')\n",
    "df.drop(axis=1,labels='Unnamed: 0',inplace=True)\n",
    "df.dropna(axis=0,inplace=True)\n",
    "df.reset_index(drop=True,inplace=True)\n",
    "x=df.iloc[:,:13]\n",
    "\n",
    "y=df.iloc[:,14:15]\n",
    "\n"
   ]
  },
  {
   "cell_type": "code",
   "execution_count": 1188,
   "metadata": {},
   "outputs": [
    {
     "data": {
      "text/html": [
       "<div>\n",
       "<style scoped>\n",
       "    .dataframe tbody tr th:only-of-type {\n",
       "        vertical-align: middle;\n",
       "    }\n",
       "\n",
       "    .dataframe tbody tr th {\n",
       "        vertical-align: top;\n",
       "    }\n",
       "\n",
       "    .dataframe thead th {\n",
       "        text-align: right;\n",
       "    }\n",
       "</style>\n",
       "<table border=\"1\" class=\"dataframe\">\n",
       "  <thead>\n",
       "    <tr style=\"text-align: right;\">\n",
       "      <th></th>\n",
       "      <th>cho</th>\n",
       "    </tr>\n",
       "  </thead>\n",
       "  <tbody>\n",
       "    <tr>\n",
       "      <th>count</th>\n",
       "      <td>325.000000</td>\n",
       "    </tr>\n",
       "    <tr>\n",
       "      <th>mean</th>\n",
       "      <td>235.395385</td>\n",
       "    </tr>\n",
       "    <tr>\n",
       "      <th>std</th>\n",
       "      <td>112.675699</td>\n",
       "    </tr>\n",
       "    <tr>\n",
       "      <th>min</th>\n",
       "      <td>164.000000</td>\n",
       "    </tr>\n",
       "    <tr>\n",
       "      <th>25%</th>\n",
       "      <td>209.000000</td>\n",
       "    </tr>\n",
       "    <tr>\n",
       "      <th>50%</th>\n",
       "      <td>221.000000</td>\n",
       "    </tr>\n",
       "    <tr>\n",
       "      <th>75%</th>\n",
       "      <td>250.000000</td>\n",
       "    </tr>\n",
       "    <tr>\n",
       "      <th>max</th>\n",
       "      <td>2180.000000</td>\n",
       "    </tr>\n",
       "  </tbody>\n",
       "</table>\n",
       "</div>"
      ],
      "text/plain": [
       "               cho\n",
       "count   325.000000\n",
       "mean    235.395385\n",
       "std     112.675699\n",
       "min     164.000000\n",
       "25%     209.000000\n",
       "50%     221.000000\n",
       "75%     250.000000\n",
       "max    2180.000000"
      ]
     },
     "execution_count": 1188,
     "metadata": {},
     "output_type": "execute_result"
    }
   ],
   "source": [
    "y.describe()"
   ]
  },
  {
   "cell_type": "code",
   "execution_count": 1189,
   "metadata": {},
   "outputs": [],
   "source": [
    "\n",
    "y.loc[y.cho>2000]\n",
    "y.replace(to_replace=2180.0,value=218,inplace=True)"
   ]
  },
  {
   "cell_type": "markdown",
   "metadata": {},
   "source": [
    "# TEST TRAIN SPLIT"
   ]
  },
  {
   "cell_type": "code",
   "execution_count": 1190,
   "metadata": {},
   "outputs": [],
   "source": [
    "x_train,x_test,y_train,y_test=train_test_split(x,y,test_size=0.2,random_state=1);"
   ]
  },
  {
   "cell_type": "code",
   "execution_count": 1191,
   "metadata": {},
   "outputs": [],
   "source": [
    "lr=LinearRegression(fit_intercept=True)\n",
    "en=ElasticNet()\n",
    "rf=RandomForestRegressor(n_estimators=500,max_depth=4,criterion='squared_error')\n",
    "ab=AdaBoostRegressor()\n",
    "gb=GradientBoostingRegressor(n_estimators=700,max_depth=1,loss='huber',alpha=0.45,criterion='squared_error',learning_rate=0.1)\n",
    "pca=PCA(whiten=True)\n",
    "lda=LDA()\n",
    "gpr=GaussianProcessRegressor(kernel=WhiteKernel()+DotProduct())\n",
    "svr=SVR(kernel='rbf')"
   ]
  },
  {
   "cell_type": "code",
   "execution_count": 1192,
   "metadata": {},
   "outputs": [
    {
     "name": "stderr",
     "output_type": "stream",
     "text": [
      "/var/folders/lr/tv_mh2r13bb7xs3k5qmj606m0000gn/T/ipykernel_90018/1641303734.py:3: DataConversionWarning: A column-vector y was passed when a 1d array was expected. Please change the shape of y to (n_samples,), for example using ravel().\n",
      "  rf.fit(ss.fit_transform(x_train),ss.fit_transform(y_train))\n",
      "/Users/jesherjoshua/Library/Python/3.8/lib/python/site-packages/sklearn/utils/validation.py:1111: DataConversionWarning: A column-vector y was passed when a 1d array was expected. Please change the shape of y to (n_samples, ), for example using ravel().\n",
      "  y = column_or_1d(y, warn=True)\n",
      "/Users/jesherjoshua/Library/Python/3.8/lib/python/site-packages/sklearn/ensemble/_gb.py:570: DataConversionWarning: A column-vector y was passed when a 1d array was expected. Please change the shape of y to (n_samples, ), for example using ravel().\n",
      "  y = column_or_1d(y, warn=True)\n",
      "/Users/jesherjoshua/Library/Python/3.8/lib/python/site-packages/sklearn/utils/validation.py:1111: DataConversionWarning: A column-vector y was passed when a 1d array was expected. Please change the shape of y to (n_samples, ), for example using ravel().\n",
      "  y = column_or_1d(y, warn=True)\n"
     ]
    },
    {
     "data": {
      "text/html": [
       "<style>#sk-container-id-123 {color: black;background-color: white;}#sk-container-id-123 pre{padding: 0;}#sk-container-id-123 div.sk-toggleable {background-color: white;}#sk-container-id-123 label.sk-toggleable__label {cursor: pointer;display: block;width: 100%;margin-bottom: 0;padding: 0.3em;box-sizing: border-box;text-align: center;}#sk-container-id-123 label.sk-toggleable__label-arrow:before {content: \"▸\";float: left;margin-right: 0.25em;color: #696969;}#sk-container-id-123 label.sk-toggleable__label-arrow:hover:before {color: black;}#sk-container-id-123 div.sk-estimator:hover label.sk-toggleable__label-arrow:before {color: black;}#sk-container-id-123 div.sk-toggleable__content {max-height: 0;max-width: 0;overflow: hidden;text-align: left;background-color: #f0f8ff;}#sk-container-id-123 div.sk-toggleable__content pre {margin: 0.2em;color: black;border-radius: 0.25em;background-color: #f0f8ff;}#sk-container-id-123 input.sk-toggleable__control:checked~div.sk-toggleable__content {max-height: 200px;max-width: 100%;overflow: auto;}#sk-container-id-123 input.sk-toggleable__control:checked~label.sk-toggleable__label-arrow:before {content: \"▾\";}#sk-container-id-123 div.sk-estimator input.sk-toggleable__control:checked~label.sk-toggleable__label {background-color: #d4ebff;}#sk-container-id-123 div.sk-label input.sk-toggleable__control:checked~label.sk-toggleable__label {background-color: #d4ebff;}#sk-container-id-123 input.sk-hidden--visually {border: 0;clip: rect(1px 1px 1px 1px);clip: rect(1px, 1px, 1px, 1px);height: 1px;margin: -1px;overflow: hidden;padding: 0;position: absolute;width: 1px;}#sk-container-id-123 div.sk-estimator {font-family: monospace;background-color: #f0f8ff;border: 1px dotted black;border-radius: 0.25em;box-sizing: border-box;margin-bottom: 0.5em;}#sk-container-id-123 div.sk-estimator:hover {background-color: #d4ebff;}#sk-container-id-123 div.sk-parallel-item::after {content: \"\";width: 100%;border-bottom: 1px solid gray;flex-grow: 1;}#sk-container-id-123 div.sk-label:hover label.sk-toggleable__label {background-color: #d4ebff;}#sk-container-id-123 div.sk-serial::before {content: \"\";position: absolute;border-left: 1px solid gray;box-sizing: border-box;top: 0;bottom: 0;left: 50%;z-index: 0;}#sk-container-id-123 div.sk-serial {display: flex;flex-direction: column;align-items: center;background-color: white;padding-right: 0.2em;padding-left: 0.2em;position: relative;}#sk-container-id-123 div.sk-item {position: relative;z-index: 1;}#sk-container-id-123 div.sk-parallel {display: flex;align-items: stretch;justify-content: center;background-color: white;position: relative;}#sk-container-id-123 div.sk-item::before, #sk-container-id-123 div.sk-parallel-item::before {content: \"\";position: absolute;border-left: 1px solid gray;box-sizing: border-box;top: 0;bottom: 0;left: 50%;z-index: -1;}#sk-container-id-123 div.sk-parallel-item {display: flex;flex-direction: column;z-index: 1;position: relative;background-color: white;}#sk-container-id-123 div.sk-parallel-item:first-child::after {align-self: flex-end;width: 50%;}#sk-container-id-123 div.sk-parallel-item:last-child::after {align-self: flex-start;width: 50%;}#sk-container-id-123 div.sk-parallel-item:only-child::after {width: 0;}#sk-container-id-123 div.sk-dashed-wrapped {border: 1px dashed gray;margin: 0 0.4em 0.5em 0.4em;box-sizing: border-box;padding-bottom: 0.4em;background-color: white;}#sk-container-id-123 div.sk-label label {font-family: monospace;font-weight: bold;display: inline-block;line-height: 1.2em;}#sk-container-id-123 div.sk-label-container {text-align: center;}#sk-container-id-123 div.sk-container {/* jupyter's `normalize.less` sets `[hidden] { display: none; }` but bootstrap.min.css set `[hidden] { display: none !important; }` so we also need the `!important` here to be able to override the default hidden behavior on the sphinx rendered scikit-learn.org. See: https://github.com/scikit-learn/scikit-learn/issues/21755 */display: inline-block !important;position: relative;}#sk-container-id-123 div.sk-text-repr-fallback {display: none;}</style><div id=\"sk-container-id-123\" class=\"sk-top-container\"><div class=\"sk-text-repr-fallback\"><pre>SVR()</pre><b>In a Jupyter environment, please rerun this cell to show the HTML representation or trust the notebook. <br />On GitHub, the HTML representation is unable to render, please try loading this page with nbviewer.org.</b></div><div class=\"sk-container\" hidden><div class=\"sk-item\"><div class=\"sk-estimator sk-toggleable\"><input class=\"sk-toggleable__control sk-hidden--visually\" id=\"sk-estimator-id-123\" type=\"checkbox\" checked><label for=\"sk-estimator-id-123\" class=\"sk-toggleable__label sk-toggleable__label-arrow\">SVR</label><div class=\"sk-toggleable__content\"><pre>SVR()</pre></div></div></div></div></div>"
      ],
      "text/plain": [
       "SVR()"
      ]
     },
     "execution_count": 1192,
     "metadata": {},
     "output_type": "execute_result"
    }
   ],
   "source": [
    "lr.fit(ss.fit_transform(x_train),ss.fit_transform(y_train))\n",
    "en.fit(ss.fit_transform(x_train),ss.fit_transform(y_train))\n",
    "rf.fit(ss.fit_transform(x_train),ss.fit_transform(y_train))\n",
    "ab.fit(ss.fit_transform(x_train),ss.fit_transform(y_train))\n",
    "gb.fit(ss.fit_transform(x_train),ss.fit_transform(y_train))\n",
    "pca.fit(ss.fit_transform(x_train),ss.fit_transform(y_train))\n",
    "#lda.fit(x_tr,y_tr.values.reshape(-1,1))\n",
    "gpr.fit(ss.fit_transform(x_train),ss.fit_transform(y_train))\n",
    "svr.fit(ss.fit_transform(x_train),ss.fit_transform(y_train))"
   ]
  },
  {
   "cell_type": "markdown",
   "metadata": {},
   "source": [
    "# TRAIN ACC BEFORE SELECTION"
   ]
  },
  {
   "cell_type": "code",
   "execution_count": 1193,
   "metadata": {},
   "outputs": [
    {
     "name": "stdout",
     "output_type": "stream",
     "text": [
      "TRAIN ACC:\n",
      "LR acc:  0.5787170891128293\n",
      "ElasticNet acc:  0.018006084356398944\n",
      "RandomForest acc:  0.8453275952289974\n",
      "AdaBoost acc:  0.749085198360814\n",
      "GradientBoost acc:  0.7761541839116917\n",
      "PCA acc:  -19.808963792030557\n",
      "GPR acc:  0.5787123663037115\n",
      "SVR acc:  0.7027990828207022\n"
     ]
    }
   ],
   "source": [
    "print(\"TRAIN ACC:\")\n",
    "fh.write(\"TRAIN ACC - BEFORE FEATURE SELECTION:\\n\")\n",
    "print('LR acc: ',lr.score(ss.fit_transform(x_train),ss.fit_transform(y_train)))\n",
    "print('ElasticNet acc: ',en.score(ss.fit_transform(x_train),ss.fit_transform(y_train)))\n",
    "print('RandomForest acc: ',rf.score(ss.fit_transform(x_train),ss.fit_transform(y_train)))\n",
    "print('AdaBoost acc: ',ab.score(ss.fit_transform(x_train),ss.fit_transform(y_train)))\n",
    "print('GradientBoost acc: ',gb.score(ss.fit_transform(x_train),ss.fit_transform(y_train)))\n",
    "fh.write(\"Gradient Boosting acc: \"+str(gb.score(ss.fit_transform(x_train),ss.fit_transform(y_train)))+\"\\n\")\n",
    "\n",
    "print(\"PCA acc: \",pca.score(ss.fit_transform(x_train),ss.fit_transform(y_train)))\n",
    "print(\"GPR acc: \",gpr.score(ss.fit_transform(x_train),ss.fit_transform(y_train)))\n",
    "print(\"SVR acc: \",svr.score(ss.fit_transform(x_train),ss.fit_transform(y_train)))\n"
   ]
  },
  {
   "cell_type": "markdown",
   "metadata": {},
   "source": [
    "# TEST ACC BEFORE SELECTION"
   ]
  },
  {
   "cell_type": "code",
   "execution_count": 1194,
   "metadata": {},
   "outputs": [
    {
     "name": "stdout",
     "output_type": "stream",
     "text": [
      "TEST ACC:\n",
      "LR acc:  0.5188263553077903\n",
      "ElasticNet acc:  0.024959376035805336\n",
      "RandomForest acc:  0.5295773330520774\n",
      "AdaBoost acc:  0.5393784558004473\n",
      "GradientBoost acc:  0.6931638100776121\n",
      "PCA acc:  -29.289681240235907\n",
      "GPR acc:  0.5202245313592835\n",
      "SVR acc:  0.5545401672231836\n"
     ]
    }
   ],
   "source": [
    "print(\"TEST ACC:\")\n",
    "fh.write(\"TEST ACC - BEFORE FEATURE SELECTION:\\n\")\n",
    "\n",
    "print('LR acc: ',lr.score(ss.fit_transform(x_test),ss.fit_transform(y_test)))\n",
    "print('ElasticNet acc: ',en.score(ss.fit_transform(x_test),ss.fit_transform(y_test)))\n",
    "print('RandomForest acc: ',rf.score(ss.fit_transform(x_test),ss.fit_transform(y_test)))\n",
    "print('AdaBoost acc: ',ab.score(ss.fit_transform(x_test),ss.fit_transform(y_test)))\n",
    "print('GradientBoost acc: ',gb.score(ss.fit_transform(x_test),ss.fit_transform(y_test)))\n",
    "fh.write(\"Gradient Boosting acc: \"+str(gb.score(ss.fit_transform(x_test),ss.fit_transform(y_test)))+\"\\n\")\n",
    "print(\"PCA acc: \",pca.score(ss.fit_transform(x_test),ss.fit_transform(y_test)))\n",
    "print(\"GPR acc: \",gpr.score(ss.fit_transform(x_test),ss.fit_transform(y_test)))\n",
    "print(\"SVR acc: \",svr.score(ss.fit_transform(x_test),ss.fit_transform(y_test)))\n"
   ]
  },
  {
   "cell_type": "code",
   "execution_count": 1195,
   "metadata": {},
   "outputs": [
    {
     "data": {
      "text/plain": [
       "0.3068361899223879"
      ]
     },
     "execution_count": 1195,
     "metadata": {},
     "output_type": "execute_result"
    }
   ],
   "source": [
    "metrics.mean_squared_error(ss.fit_transform(y_test),gb.predict(ss.fit_transform(x_test)))"
   ]
  },
  {
   "cell_type": "markdown",
   "metadata": {},
   "source": [
    "# FEATURE SELECTION:"
   ]
  },
  {
   "cell_type": "code",
   "execution_count": 1196,
   "metadata": {},
   "outputs": [
    {
     "name": "stderr",
     "output_type": "stream",
     "text": [
      "/Users/jesherjoshua/Library/Python/3.8/lib/python/site-packages/sklearn/ensemble/_gb.py:570: DataConversionWarning: A column-vector y was passed when a 1d array was expected. Please change the shape of y to (n_samples, ), for example using ravel().\n",
      "  y = column_or_1d(y, warn=True)\n",
      "/Users/jesherjoshua/Library/Python/3.8/lib/python/site-packages/sklearn/ensemble/_gb.py:570: DataConversionWarning: A column-vector y was passed when a 1d array was expected. Please change the shape of y to (n_samples, ), for example using ravel().\n",
      "  y = column_or_1d(y, warn=True)\n",
      "/Users/jesherjoshua/Library/Python/3.8/lib/python/site-packages/sklearn/ensemble/_gb.py:570: DataConversionWarning: A column-vector y was passed when a 1d array was expected. Please change the shape of y to (n_samples, ), for example using ravel().\n",
      "  y = column_or_1d(y, warn=True)\n",
      "/Users/jesherjoshua/Library/Python/3.8/lib/python/site-packages/sklearn/ensemble/_gb.py:570: DataConversionWarning: A column-vector y was passed when a 1d array was expected. Please change the shape of y to (n_samples, ), for example using ravel().\n",
      "  y = column_or_1d(y, warn=True)\n",
      "/Users/jesherjoshua/Library/Python/3.8/lib/python/site-packages/sklearn/ensemble/_gb.py:570: DataConversionWarning: A column-vector y was passed when a 1d array was expected. Please change the shape of y to (n_samples, ), for example using ravel().\n",
      "  y = column_or_1d(y, warn=True)\n",
      "/Users/jesherjoshua/Library/Python/3.8/lib/python/site-packages/sklearn/ensemble/_gb.py:570: DataConversionWarning: A column-vector y was passed when a 1d array was expected. Please change the shape of y to (n_samples, ), for example using ravel().\n",
      "  y = column_or_1d(y, warn=True)\n",
      "/Users/jesherjoshua/Library/Python/3.8/lib/python/site-packages/sklearn/ensemble/_gb.py:570: DataConversionWarning: A column-vector y was passed when a 1d array was expected. Please change the shape of y to (n_samples, ), for example using ravel().\n",
      "  y = column_or_1d(y, warn=True)\n",
      "/Users/jesherjoshua/Library/Python/3.8/lib/python/site-packages/sklearn/ensemble/_gb.py:570: DataConversionWarning: A column-vector y was passed when a 1d array was expected. Please change the shape of y to (n_samples, ), for example using ravel().\n",
      "  y = column_or_1d(y, warn=True)\n"
     ]
    },
    {
     "name": "stdout",
     "output_type": "stream",
     "text": [
      "patient_age 35.7250528039094\n",
      "patient_gender 24.852072658831904\n",
      "Ht 0.22292680739529622\n",
      "Wt 35.01940910937055\n",
      "HB 0.6346027063190461\n",
      "UREA 1.0157261555886756\n",
      "CR 0.2588714465190713\n",
      "Na 0.45995705640513757\n",
      "K 0.17789428237342525\n",
      "FBS 0.008193887342883205\n",
      "HBA1C 0.6643060672084085\n",
      "SGOT 0.35165313367219947\n",
      "SGPT 0.6093338850640216\n"
     ]
    },
    {
     "data": {
      "text/plain": [
       "array([1, 1, 5, 1, 1, 1, 6, 3, 7, 8, 2, 4, 1])"
      ]
     },
     "execution_count": 1196,
     "metadata": {},
     "output_type": "execute_result"
    }
   ],
   "source": [
    "rfe=RFE(gb,n_features_to_select=None)\n",
    "rfe.fit(x_train,y_train)\n",
    "for h,i in enumerate(gb.feature_importances_):\n",
    "    #print(y.columns[h],i)\n",
    "    print(df.columns[h],i*100)\n",
    "rfe.ranking_"
   ]
  },
  {
   "cell_type": "code",
   "execution_count": 1197,
   "metadata": {},
   "outputs": [],
   "source": [
    "x_train.drop(labels=['Ht','HB','Na','FBS','HBA1C','SGOT','SGPT'],inplace=True,axis=1)\n",
    "x_test.drop(labels=['Ht','HB','Na','FBS','HBA1C','SGOT','SGPT'],inplace=True,axis=1)"
   ]
  },
  {
   "cell_type": "markdown",
   "metadata": {},
   "source": [
    "# AFTER FEATURE SELECTION "
   ]
  },
  {
   "cell_type": "code",
   "execution_count": 1198,
   "metadata": {},
   "outputs": [
    {
     "name": "stderr",
     "output_type": "stream",
     "text": [
      "/var/folders/lr/tv_mh2r13bb7xs3k5qmj606m0000gn/T/ipykernel_90018/1641303734.py:3: DataConversionWarning: A column-vector y was passed when a 1d array was expected. Please change the shape of y to (n_samples,), for example using ravel().\n",
      "  rf.fit(ss.fit_transform(x_train),ss.fit_transform(y_train))\n",
      "/Users/jesherjoshua/Library/Python/3.8/lib/python/site-packages/sklearn/utils/validation.py:1111: DataConversionWarning: A column-vector y was passed when a 1d array was expected. Please change the shape of y to (n_samples, ), for example using ravel().\n",
      "  y = column_or_1d(y, warn=True)\n",
      "/Users/jesherjoshua/Library/Python/3.8/lib/python/site-packages/sklearn/ensemble/_gb.py:570: DataConversionWarning: A column-vector y was passed when a 1d array was expected. Please change the shape of y to (n_samples, ), for example using ravel().\n",
      "  y = column_or_1d(y, warn=True)\n",
      "/Users/jesherjoshua/Library/Python/3.8/lib/python/site-packages/sklearn/utils/validation.py:1111: DataConversionWarning: A column-vector y was passed when a 1d array was expected. Please change the shape of y to (n_samples, ), for example using ravel().\n",
      "  y = column_or_1d(y, warn=True)\n"
     ]
    },
    {
     "data": {
      "text/html": [
       "<style>#sk-container-id-124 {color: black;background-color: white;}#sk-container-id-124 pre{padding: 0;}#sk-container-id-124 div.sk-toggleable {background-color: white;}#sk-container-id-124 label.sk-toggleable__label {cursor: pointer;display: block;width: 100%;margin-bottom: 0;padding: 0.3em;box-sizing: border-box;text-align: center;}#sk-container-id-124 label.sk-toggleable__label-arrow:before {content: \"▸\";float: left;margin-right: 0.25em;color: #696969;}#sk-container-id-124 label.sk-toggleable__label-arrow:hover:before {color: black;}#sk-container-id-124 div.sk-estimator:hover label.sk-toggleable__label-arrow:before {color: black;}#sk-container-id-124 div.sk-toggleable__content {max-height: 0;max-width: 0;overflow: hidden;text-align: left;background-color: #f0f8ff;}#sk-container-id-124 div.sk-toggleable__content pre {margin: 0.2em;color: black;border-radius: 0.25em;background-color: #f0f8ff;}#sk-container-id-124 input.sk-toggleable__control:checked~div.sk-toggleable__content {max-height: 200px;max-width: 100%;overflow: auto;}#sk-container-id-124 input.sk-toggleable__control:checked~label.sk-toggleable__label-arrow:before {content: \"▾\";}#sk-container-id-124 div.sk-estimator input.sk-toggleable__control:checked~label.sk-toggleable__label {background-color: #d4ebff;}#sk-container-id-124 div.sk-label input.sk-toggleable__control:checked~label.sk-toggleable__label {background-color: #d4ebff;}#sk-container-id-124 input.sk-hidden--visually {border: 0;clip: rect(1px 1px 1px 1px);clip: rect(1px, 1px, 1px, 1px);height: 1px;margin: -1px;overflow: hidden;padding: 0;position: absolute;width: 1px;}#sk-container-id-124 div.sk-estimator {font-family: monospace;background-color: #f0f8ff;border: 1px dotted black;border-radius: 0.25em;box-sizing: border-box;margin-bottom: 0.5em;}#sk-container-id-124 div.sk-estimator:hover {background-color: #d4ebff;}#sk-container-id-124 div.sk-parallel-item::after {content: \"\";width: 100%;border-bottom: 1px solid gray;flex-grow: 1;}#sk-container-id-124 div.sk-label:hover label.sk-toggleable__label {background-color: #d4ebff;}#sk-container-id-124 div.sk-serial::before {content: \"\";position: absolute;border-left: 1px solid gray;box-sizing: border-box;top: 0;bottom: 0;left: 50%;z-index: 0;}#sk-container-id-124 div.sk-serial {display: flex;flex-direction: column;align-items: center;background-color: white;padding-right: 0.2em;padding-left: 0.2em;position: relative;}#sk-container-id-124 div.sk-item {position: relative;z-index: 1;}#sk-container-id-124 div.sk-parallel {display: flex;align-items: stretch;justify-content: center;background-color: white;position: relative;}#sk-container-id-124 div.sk-item::before, #sk-container-id-124 div.sk-parallel-item::before {content: \"\";position: absolute;border-left: 1px solid gray;box-sizing: border-box;top: 0;bottom: 0;left: 50%;z-index: -1;}#sk-container-id-124 div.sk-parallel-item {display: flex;flex-direction: column;z-index: 1;position: relative;background-color: white;}#sk-container-id-124 div.sk-parallel-item:first-child::after {align-self: flex-end;width: 50%;}#sk-container-id-124 div.sk-parallel-item:last-child::after {align-self: flex-start;width: 50%;}#sk-container-id-124 div.sk-parallel-item:only-child::after {width: 0;}#sk-container-id-124 div.sk-dashed-wrapped {border: 1px dashed gray;margin: 0 0.4em 0.5em 0.4em;box-sizing: border-box;padding-bottom: 0.4em;background-color: white;}#sk-container-id-124 div.sk-label label {font-family: monospace;font-weight: bold;display: inline-block;line-height: 1.2em;}#sk-container-id-124 div.sk-label-container {text-align: center;}#sk-container-id-124 div.sk-container {/* jupyter's `normalize.less` sets `[hidden] { display: none; }` but bootstrap.min.css set `[hidden] { display: none !important; }` so we also need the `!important` here to be able to override the default hidden behavior on the sphinx rendered scikit-learn.org. See: https://github.com/scikit-learn/scikit-learn/issues/21755 */display: inline-block !important;position: relative;}#sk-container-id-124 div.sk-text-repr-fallback {display: none;}</style><div id=\"sk-container-id-124\" class=\"sk-top-container\"><div class=\"sk-text-repr-fallback\"><pre>SVR()</pre><b>In a Jupyter environment, please rerun this cell to show the HTML representation or trust the notebook. <br />On GitHub, the HTML representation is unable to render, please try loading this page with nbviewer.org.</b></div><div class=\"sk-container\" hidden><div class=\"sk-item\"><div class=\"sk-estimator sk-toggleable\"><input class=\"sk-toggleable__control sk-hidden--visually\" id=\"sk-estimator-id-124\" type=\"checkbox\" checked><label for=\"sk-estimator-id-124\" class=\"sk-toggleable__label sk-toggleable__label-arrow\">SVR</label><div class=\"sk-toggleable__content\"><pre>SVR()</pre></div></div></div></div></div>"
      ],
      "text/plain": [
       "SVR()"
      ]
     },
     "execution_count": 1198,
     "metadata": {},
     "output_type": "execute_result"
    }
   ],
   "source": [
    "lr.fit(ss.fit_transform(x_train),ss.fit_transform(y_train))\n",
    "en.fit(ss.fit_transform(x_train),ss.fit_transform(y_train))\n",
    "rf.fit(ss.fit_transform(x_train),ss.fit_transform(y_train))\n",
    "ab.fit(ss.fit_transform(x_train),ss.fit_transform(y_train))\n",
    "gb.fit(ss.fit_transform(x_train),ss.fit_transform(y_train))\n",
    "pca.fit(ss.fit_transform(x_train),ss.fit_transform(y_train))\n",
    "#lda.fit(x_tr,y_tr.values.reshape(-1,1))\n",
    "gpr.fit(ss.fit_transform(x_train),ss.fit_transform(y_train))\n",
    "svr.fit(ss.fit_transform(x_train),ss.fit_transform(y_train))"
   ]
  },
  {
   "cell_type": "markdown",
   "metadata": {},
   "source": [
    "# TRAIN ACC AFTER FEATURE SELECTION"
   ]
  },
  {
   "cell_type": "code",
   "execution_count": 1199,
   "metadata": {},
   "outputs": [
    {
     "name": "stdout",
     "output_type": "stream",
     "text": [
      "TRAIN ACC:\n",
      "LR acc:  0.5265271286294202\n",
      "ElasticNet acc:  0.018006084356398944\n",
      "RandomForest acc:  0.8488930158951962\n",
      "AdaBoost acc:  0.7284360684112804\n",
      "GradientBoost acc:  0.7694508475435107\n",
      "PCA acc:  -8.514666353915356\n",
      "GPR acc:  0.5265252792268438\n",
      "SVR acc:  0.6791156497851033\n"
     ]
    }
   ],
   "source": [
    "print(\"TRAIN ACC:\")\n",
    "fh.write(\"TRAIN ACC - AFTER FEATURE SELECTION:\\n\")\n",
    "print('LR acc: ',lr.score(ss.fit_transform(x_train),ss.fit_transform(y_train)))\n",
    "print('ElasticNet acc: ',en.score(ss.fit_transform(x_train),ss.fit_transform(y_train)))\n",
    "print('RandomForest acc: ',rf.score(ss.fit_transform(x_train),ss.fit_transform(y_train)))\n",
    "print('AdaBoost acc: ',ab.score(ss.fit_transform(x_train),ss.fit_transform(y_train)))\n",
    "print('GradientBoost acc: ',gb.score(ss.fit_transform(x_train),ss.fit_transform(y_train)))\n",
    "fh.write(\"Gradient Boosting acc: \"+str(gb.score(ss.fit_transform(x_train),ss.fit_transform(y_train)))+\"\\n\")\n",
    "print(\"PCA acc: \",pca.score(ss.fit_transform(x_train),ss.fit_transform(y_train)))\n",
    "print(\"GPR acc: \",gpr.score(ss.fit_transform(x_train),ss.fit_transform(y_train)))\n",
    "print(\"SVR acc: \",svr.score(ss.fit_transform(x_train),ss.fit_transform(y_train)))\n"
   ]
  },
  {
   "cell_type": "markdown",
   "metadata": {},
   "source": [
    "# TEST ACC AFTER FEATURE SELECTION"
   ]
  },
  {
   "cell_type": "code",
   "execution_count": 1200,
   "metadata": {},
   "outputs": [
    {
     "name": "stdout",
     "output_type": "stream",
     "text": [
      "TEST ACC:\n",
      "LR acc:  0.6678625758358576\n",
      "ElasticNet acc:  0.024959376035805336\n",
      "RandomForest acc:  0.5320778885528061\n",
      "AdaBoost acc:  0.5210621498144143\n",
      "GradientBoost acc:  0.7281994410742043\n",
      "PCA acc:  -8.550538442413147\n",
      "GPR acc:  0.6678095672782898\n",
      "SVR acc:  0.591972645516812\n"
     ]
    }
   ],
   "source": [
    "print(\"TEST ACC:\")\n",
    "fh.write(\"TEST ACC - AFTER FEATURE SELECTION:\\n\")\n",
    "\n",
    "print('LR acc: ',lr.score(ss.fit_transform(x_test),ss.fit_transform(y_test)))\n",
    "print('ElasticNet acc: ',en.score(ss.fit_transform(x_test),ss.fit_transform(y_test)))\n",
    "print('RandomForest acc: ',rf.score(ss.fit_transform(x_test),ss.fit_transform(y_test)))\n",
    "print('AdaBoost acc: ',ab.score(ss.fit_transform(x_test),ss.fit_transform(y_test)))\n",
    "print('GradientBoost acc: ',gb.score(ss.fit_transform(x_test),ss.fit_transform(y_test)))\n",
    "fh.write(\"Gradient Boosting acc: \"+str(gb.score(ss.fit_transform(x_test),ss.fit_transform(y_test)))+\"\\n\")\n",
    "print(\"PCA acc: \",pca.score(ss.fit_transform(x_test),ss.fit_transform(y_test)))\n",
    "print(\"GPR acc: \",gpr.score(ss.fit_transform(x_test),ss.fit_transform(y_test)))\n",
    "print(\"SVR acc: \",svr.score(ss.fit_transform(x_test),ss.fit_transform(y_test)))\n"
   ]
  },
  {
   "cell_type": "code",
   "execution_count": 1201,
   "metadata": {},
   "outputs": [],
   "source": [
    "gb_mse = metrics.mean_squared_error(ss.fit_transform(y_test),gb.predict(ss.fit_transform(x_test)))"
   ]
  },
  {
   "cell_type": "code",
   "execution_count": 1202,
   "metadata": {},
   "outputs": [
    {
     "data": {
      "text/plain": [
       "0.2718005589257957"
      ]
     },
     "execution_count": 1202,
     "metadata": {},
     "output_type": "execute_result"
    }
   ],
   "source": [
    "gb_mse"
   ]
  }
 ],
 "metadata": {
  "kernelspec": {
   "display_name": "Python 3.8.10 64-bit",
   "language": "python",
   "name": "python3"
  },
  "language_info": {
   "codemirror_mode": {
    "name": "ipython",
    "version": 3
   },
   "file_extension": ".py",
   "mimetype": "text/x-python",
   "name": "python",
   "nbconvert_exporter": "python",
   "pygments_lexer": "ipython3",
   "version": "3.8.10"
  },
  "orig_nbformat": 4,
  "vscode": {
   "interpreter": {
    "hash": "31f2aee4e71d21fbe5cf8b01ff0e069b9275f58929596ceb00d14d90e3e16cd6"
   }
  }
 },
 "nbformat": 4,
 "nbformat_minor": 2
}
