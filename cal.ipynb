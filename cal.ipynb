{
 "cells": [
  {
   "cell_type": "code",
   "execution_count": 324,
   "metadata": {},
   "outputs": [],
   "source": [
    "import numpy as np\n",
    "import pandas as pd\n",
    "#import seaborn as sns\n",
    "import matplotlib.pyplot as plt\n",
    "#from tqdm import tqdm\n",
    "from sklearn.preprocessing import MinMaxScaler as MMS\n",
    "from sklearn.preprocessing import StandardScaler as SS\n",
    "import re\n",
    "import random\n",
    "from sklearn.model_selection import train_test_split\n",
    "from sklearn.linear_model import LinearRegression\n",
    "from sklearn.linear_model import ElasticNet\n",
    "from sklearn.ensemble import RandomForestRegressor\n",
    "from sklearn.ensemble import GradientBoostingRegressor\n",
    "from sklearn.ensemble import AdaBoostRegressor\n",
    "from sklearn import metrics\n",
    "from sklearn.discriminant_analysis import LinearDiscriminantAnalysis as LDA\n",
    "from sklearn.discriminant_analysis import QuadraticDiscriminantAnalysis as QDA\n",
    "from sklearn.decomposition import PCA\n",
    "from sklearn.gaussian_process import GaussianProcessRegressor\n",
    "from sklearn.linear_model import LogisticRegression\n",
    "from sklearn.gaussian_process.kernels import DotProduct, WhiteKernel\n",
    "from sklearn.feature_selection import RFE\n",
    "from sklearn.tree import DecisionTreeRegressor\n",
    "from sklearn.svm import SVR"
   ]
  },
  {
   "cell_type": "code",
   "execution_count": 325,
   "metadata": {},
   "outputs": [],
   "source": [
    "df=pd.read_csv('C:\\\\Users\\\\KARAN\\\\Desktop\\\\diet project\\\\train_data_329x19.csv')\n",
    "df.drop(axis=1,labels='Unnamed: 0',inplace=True)\n",
    "df.dropna(axis=0,inplace=True)\n",
    "df.reset_index(drop=True,inplace=True)\n",
    "x=df.iloc[:,:13]\n",
    "\n",
    "y=df.iloc[:,13:14]\n",
    "\n"
   ]
  },
  {
   "cell_type": "code",
   "execution_count": 326,
   "metadata": {},
   "outputs": [
    {
     "name": "stdout",
     "output_type": "stream",
     "text": [
      "SHAPE: \n",
      "x Shape:  (325, 13)\n",
      "y Shape:  (325, 1)\n"
     ]
    }
   ],
   "source": [
    "print(\"SHAPE: \")\n",
    "print(\"x Shape: \",x.shape)\n",
    "print(\"y Shape: \",y.shape)"
   ]
  },
  {
   "cell_type": "code",
   "execution_count": 327,
   "metadata": {},
   "outputs": [],
   "source": [
    "x_train,x_test,y_train,y_test=train_test_split(x,y,test_size=0.2,random_state=None)"
   ]
  },
  {
   "cell_type": "code",
   "execution_count": 328,
   "metadata": {},
   "outputs": [
    {
     "data": {
      "text/plain": [
       "(65, 13)"
      ]
     },
     "execution_count": 328,
     "metadata": {},
     "output_type": "execute_result"
    }
   ],
   "source": [
    "x_test.shape"
   ]
  },
  {
   "cell_type": "code",
   "execution_count": 329,
   "metadata": {},
   "outputs": [],
   "source": [
    "rf=RandomForestRegressor(n_estimators=1000,max_depth=5,criterion='absolute_error')\n",
    "ab=AdaBoostRegressor()\n",
    "gb=GradientBoostingRegressor(n_estimators=200,max_depth=3,loss='huber',alpha=0.4,criterion='squared_error',learning_rate=0.1)\n",
    "svr=SVR()\n",
    "dtr=DecisionTreeRegressor(criterion='squared_error',max_depth=4)"
   ]
  },
  {
   "cell_type": "code",
   "execution_count": 330,
   "metadata": {},
   "outputs": [],
   "source": [
    "ss=SS()"
   ]
  },
  {
   "cell_type": "markdown",
   "metadata": {},
   "source": [
    "# synthetic data"
   ]
  },
  {
   "cell_type": "code",
   "execution_count": 331,
   "metadata": {},
   "outputs": [],
   "source": [
    "from sdv.tabular import GaussianCopula"
   ]
  },
  {
   "cell_type": "code",
   "execution_count": 332,
   "metadata": {},
   "outputs": [],
   "source": [
    "model = GaussianCopula(\n",
    "    field_distributions={\n",
    "        'weight': 'gamma',\n",
    "        'UREA': 'gaussian_kde',\n",
    "        'HB': 'gaussian_kde',\n",
    "        'K': 'truncated_gaussian',\n",
    "        'HBA1C': 'gaussian_kde',\n",
    "        'SGOT': 'gaussian_kde',\n",
    "        'SGPT': 'gaussian_kde',\n",
    "\n",
    "    },\n",
    ")\n",
    "model.fit(df)\n",
    "# dropping ['HBA1C','FBS','Na','HB','Ht','SGOT','SGPT']"
   ]
  },
  {
   "cell_type": "code",
   "execution_count": 333,
   "metadata": {},
   "outputs": [
    {
     "data": {
      "text/html": [
       "<div>\n",
       "<style scoped>\n",
       "    .dataframe tbody tr th:only-of-type {\n",
       "        vertical-align: middle;\n",
       "    }\n",
       "\n",
       "    .dataframe tbody tr th {\n",
       "        vertical-align: top;\n",
       "    }\n",
       "\n",
       "    .dataframe thead th {\n",
       "        text-align: right;\n",
       "    }\n",
       "</style>\n",
       "<table border=\"1\" class=\"dataframe\">\n",
       "  <thead>\n",
       "    <tr style=\"text-align: right;\">\n",
       "      <th></th>\n",
       "      <th>patient_age</th>\n",
       "      <th>patient_gender</th>\n",
       "      <th>Ht</th>\n",
       "      <th>Wt</th>\n",
       "      <th>HB</th>\n",
       "      <th>UREA</th>\n",
       "      <th>CR</th>\n",
       "      <th>Na</th>\n",
       "      <th>K</th>\n",
       "      <th>FBS</th>\n",
       "      <th>HBA1C</th>\n",
       "      <th>SGOT</th>\n",
       "      <th>SGPT</th>\n",
       "      <th>calories</th>\n",
       "      <th>cho</th>\n",
       "      <th>Fat</th>\n",
       "      <th>pro</th>\n",
       "      <th>fluids</th>\n",
       "      <th>NA</th>\n",
       "    </tr>\n",
       "  </thead>\n",
       "  <tbody>\n",
       "    <tr>\n",
       "      <th>0</th>\n",
       "      <td>85.0</td>\n",
       "      <td>0</td>\n",
       "      <td>159.4</td>\n",
       "      <td>65.55</td>\n",
       "      <td>14.85</td>\n",
       "      <td>109.49</td>\n",
       "      <td>1.09</td>\n",
       "      <td>136.0</td>\n",
       "      <td>3.82</td>\n",
       "      <td>88.0</td>\n",
       "      <td>9.58</td>\n",
       "      <td>21.3</td>\n",
       "      <td>17.89</td>\n",
       "      <td>1470.0</td>\n",
       "      <td>208.2</td>\n",
       "      <td>25.5</td>\n",
       "      <td>58.0</td>\n",
       "      <td>120.9</td>\n",
       "      <td>4.0</td>\n",
       "    </tr>\n",
       "    <tr>\n",
       "      <th>1</th>\n",
       "      <td>68.0</td>\n",
       "      <td>1</td>\n",
       "      <td>165.2</td>\n",
       "      <td>76.51</td>\n",
       "      <td>12.08</td>\n",
       "      <td>23.23</td>\n",
       "      <td>0.98</td>\n",
       "      <td>136.0</td>\n",
       "      <td>3.88</td>\n",
       "      <td>93.0</td>\n",
       "      <td>7.06</td>\n",
       "      <td>17.1</td>\n",
       "      <td>21.71</td>\n",
       "      <td>1877.0</td>\n",
       "      <td>270.3</td>\n",
       "      <td>30.4</td>\n",
       "      <td>73.0</td>\n",
       "      <td>138.8</td>\n",
       "      <td>4.0</td>\n",
       "    </tr>\n",
       "    <tr>\n",
       "      <th>2</th>\n",
       "      <td>71.0</td>\n",
       "      <td>0</td>\n",
       "      <td>161.3</td>\n",
       "      <td>48.44</td>\n",
       "      <td>13.98</td>\n",
       "      <td>116.46</td>\n",
       "      <td>0.69</td>\n",
       "      <td>132.0</td>\n",
       "      <td>4.57</td>\n",
       "      <td>106.0</td>\n",
       "      <td>9.42</td>\n",
       "      <td>27.2</td>\n",
       "      <td>26.71</td>\n",
       "      <td>1471.0</td>\n",
       "      <td>166.0</td>\n",
       "      <td>19.8</td>\n",
       "      <td>56.0</td>\n",
       "      <td>92.3</td>\n",
       "      <td>6.0</td>\n",
       "    </tr>\n",
       "    <tr>\n",
       "      <th>3</th>\n",
       "      <td>19.0</td>\n",
       "      <td>0</td>\n",
       "      <td>164.6</td>\n",
       "      <td>84.93</td>\n",
       "      <td>13.50</td>\n",
       "      <td>28.40</td>\n",
       "      <td>0.58</td>\n",
       "      <td>140.0</td>\n",
       "      <td>4.17</td>\n",
       "      <td>103.0</td>\n",
       "      <td>4.60</td>\n",
       "      <td>22.1</td>\n",
       "      <td>28.57</td>\n",
       "      <td>2005.0</td>\n",
       "      <td>468.5</td>\n",
       "      <td>31.7</td>\n",
       "      <td>79.0</td>\n",
       "      <td>14.6</td>\n",
       "      <td>7.0</td>\n",
       "    </tr>\n",
       "    <tr>\n",
       "      <th>4</th>\n",
       "      <td>59.0</td>\n",
       "      <td>0</td>\n",
       "      <td>158.4</td>\n",
       "      <td>75.69</td>\n",
       "      <td>12.56</td>\n",
       "      <td>97.65</td>\n",
       "      <td>1.35</td>\n",
       "      <td>131.0</td>\n",
       "      <td>4.08</td>\n",
       "      <td>87.0</td>\n",
       "      <td>6.61</td>\n",
       "      <td>19.6</td>\n",
       "      <td>20.07</td>\n",
       "      <td>1583.0</td>\n",
       "      <td>276.2</td>\n",
       "      <td>27.0</td>\n",
       "      <td>69.0</td>\n",
       "      <td>59.7</td>\n",
       "      <td>6.0</td>\n",
       "    </tr>\n",
       "  </tbody>\n",
       "</table>\n",
       "</div>"
      ],
      "text/plain": [
       "   patient_age  patient_gender     Ht     Wt     HB    UREA    CR     Na  \\\n",
       "0         85.0               0  159.4  65.55  14.85  109.49  1.09  136.0   \n",
       "1         68.0               1  165.2  76.51  12.08   23.23  0.98  136.0   \n",
       "2         71.0               0  161.3  48.44  13.98  116.46  0.69  132.0   \n",
       "3         19.0               0  164.6  84.93  13.50   28.40  0.58  140.0   \n",
       "4         59.0               0  158.4  75.69  12.56   97.65  1.35  131.0   \n",
       "\n",
       "      K    FBS  HBA1C  SGOT   SGPT  calories    cho   Fat   pro  fluids   NA  \n",
       "0  3.82   88.0   9.58  21.3  17.89    1470.0  208.2  25.5  58.0   120.9  4.0  \n",
       "1  3.88   93.0   7.06  17.1  21.71    1877.0  270.3  30.4  73.0   138.8  4.0  \n",
       "2  4.57  106.0   9.42  27.2  26.71    1471.0  166.0  19.8  56.0    92.3  6.0  \n",
       "3  4.17  103.0   4.60  22.1  28.57    2005.0  468.5  31.7  79.0    14.6  7.0  \n",
       "4  4.08   87.0   6.61  19.6  20.07    1583.0  276.2  27.0  69.0    59.7  6.0  "
      ]
     },
     "execution_count": 333,
     "metadata": {},
     "output_type": "execute_result"
    }
   ],
   "source": [
    "sample = model.sample(500)\n",
    "sample.head()"
   ]
  },
  {
   "cell_type": "code",
   "execution_count": 334,
   "metadata": {},
   "outputs": [
    {
     "data": {
      "text/plain": [
       "<AxesSubplot:>"
      ]
     },
     "execution_count": 334,
     "metadata": {},
     "output_type": "execute_result"
    },
    {
     "data": {
      "image/png": "[encoded data removed]",
      "text/plain": [
       "<Figure size 432x288 with 1 Axes>"
      ]
     },
     "metadata": {
      "needs_background": "light"
     },
     "output_type": "display_data"
    }
   ],
   "source": [
    "df.cho.hist()\n",
    "sample.cho.hist()"
   ]
  },
  {
   "cell_type": "code",
   "execution_count": 335,
   "metadata": {},
   "outputs": [
    {
     "data": {
      "text/plain": [
       "array([[<AxesSubplot:title={'center':'patient_age'}>,\n",
       "        <AxesSubplot:title={'center':'patient_gender'}>,\n",
       "        <AxesSubplot:title={'center':'Ht'}>,\n",
       "        <AxesSubplot:title={'center':'Wt'}>],\n",
       "       [<AxesSubplot:title={'center':'HB'}>,\n",
       "        <AxesSubplot:title={'center':'UREA'}>,\n",
       "        <AxesSubplot:title={'center':'CR'}>,\n",
       "        <AxesSubplot:title={'center':'Na'}>],\n",
       "       [<AxesSubplot:title={'center':'K'}>,\n",
       "        <AxesSubplot:title={'center':'FBS'}>,\n",
       "        <AxesSubplot:title={'center':'HBA1C'}>,\n",
       "        <AxesSubplot:title={'center':'SGOT'}>],\n",
       "       [<AxesSubplot:title={'center':'SGPT'}>,\n",
       "        <AxesSubplot:title={'center':'calories'}>,\n",
       "        <AxesSubplot:title={'center':'cho'}>,\n",
       "        <AxesSubplot:title={'center':'Fat'}>],\n",
       "       [<AxesSubplot:title={'center':'pro'}>,\n",
       "        <AxesSubplot:title={'center':'fluids'}>,\n",
       "        <AxesSubplot:title={'center':'NA'}>, <AxesSubplot:>]],\n",
       "      dtype=object)"
      ]
     },
     "execution_count": 335,
     "metadata": {},
     "output_type": "execute_result"
    },
    {
     "data": {
      "image/png": "[encoded data removed]",
      "text/plain": [
       "<Figure size 1080x1080 with 20 Axes>"
      ]
     },
     "metadata": {
      "needs_background": "light"
     },
     "output_type": "display_data"
    },
    {
     "data": {
      "image/png": "[encoded data removed]",
      "text/plain": [
       "<Figure size 1080x1080 with 20 Axes>"
      ]
     },
     "metadata": {
      "needs_background": "light"
     },
     "output_type": "display_data"
    }
   ],
   "source": [
    "df.hist(bins=30, figsize=(15, 15))\n",
    "sample.hist(bins=30, figsize=(15, 15))"
   ]
  },
  {
   "cell_type": "markdown",
   "metadata": {},
   "source": [
    "## weight,hb,UREA*,k,HBA1C*,SGOT*,SGPT*,NA have inconsistant values"
   ]
  },
  {
   "cell_type": "code",
   "execution_count": 336,
   "metadata": {},
   "outputs": [
    {
     "data": {
      "text/plain": [
       "<AxesSubplot:>"
      ]
     },
     "execution_count": 336,
     "metadata": {},
     "output_type": "execute_result"
    },
    {
     "data": {
      "image/png": "[encoded data removed]",
      "text/plain": [
       "<Figure size 432x288 with 1 Axes>"
      ]
     },
     "metadata": {
      "needs_background": "light"
     },
     "output_type": "display_data"
    }
   ],
   "source": [
    "sample.UREA.hist()\n",
    "x_train.UREA.hist()\n"
   ]
  },
  {
   "cell_type": "markdown",
   "metadata": {},
   "source": [
    "## FIxed inconsistency in weight,hb,UREA*,k,HBA1C*,SGOT*,SGPT* creation"
   ]
  },
  {
   "cell_type": "code",
   "execution_count": 337,
   "metadata": {},
   "outputs": [],
   "source": [
    "sample_x=sample.iloc[:,:13]\n",
    "sample_y=sample.iloc[:,13:14]"
   ]
  },
  {
   "cell_type": "code",
   "execution_count": 338,
   "metadata": {},
   "outputs": [],
   "source": [
    "frames_x = [sample_x,x_train]\n",
    "frames_y = [sample_y,y_train]"
   ]
  },
  {
   "cell_type": "code",
   "execution_count": 339,
   "metadata": {},
   "outputs": [],
   "source": [
    "result_x = pd.concat(frames_x)\n",
    "result_y = pd.concat(frames_y)"
   ]
  },
  {
   "cell_type": "code",
   "execution_count": 340,
   "metadata": {},
   "outputs": [
    {
     "data": {
      "text/plain": [
       "(760, 1)"
      ]
     },
     "execution_count": 340,
     "metadata": {},
     "output_type": "execute_result"
    }
   ],
   "source": [
    "result_x.shape\n",
    "result_y.shape"
   ]
  },
  {
   "cell_type": "code",
   "execution_count": 341,
   "metadata": {},
   "outputs": [
    {
     "name": "stderr",
     "output_type": "stream",
     "text": [
      "C:\\Users\\KARAN\\AppData\\Local\\Temp\\ipykernel_24520\\3228913291.py:1: DataConversionWarning: A column-vector y was passed when a 1d array was expected. Please change the shape of y to (n_samples,), for example using ravel().\n",
      "  rf.fit(ss.fit_transform(result_x),ss.fit_transform(result_y))\n",
      "c:\\Users\\KARAN\\AppData\\Local\\Programs\\Orange\\lib\\site-packages\\sklearn\\utils\\validation.py:993: DataConversionWarning: A column-vector y was passed when a 1d array was expected. Please change the shape of y to (n_samples, ), for example using ravel().\n",
      "  y = column_or_1d(y, warn=True)\n",
      "c:\\Users\\KARAN\\AppData\\Local\\Programs\\Orange\\lib\\site-packages\\sklearn\\ensemble\\_gb.py:494: DataConversionWarning: A column-vector y was passed when a 1d array was expected. Please change the shape of y to (n_samples, ), for example using ravel().\n",
      "  y = column_or_1d(y, warn=True)\n",
      "c:\\Users\\KARAN\\AppData\\Local\\Programs\\Orange\\lib\\site-packages\\sklearn\\utils\\validation.py:993: DataConversionWarning: A column-vector y was passed when a 1d array was expected. Please change the shape of y to (n_samples, ), for example using ravel().\n",
      "  y = column_or_1d(y, warn=True)\n"
     ]
    },
    {
     "data": {
      "text/plain": [
       "DecisionTreeRegressor(max_depth=4)"
      ]
     },
     "execution_count": 341,
     "metadata": {},
     "output_type": "execute_result"
    }
   ],
   "source": [
    "rf.fit(ss.fit_transform(result_x),ss.fit_transform(result_y))\n",
    "ab.fit(ss.fit_transform(result_x),ss.fit_transform(result_y))\n",
    "gb.fit(ss.fit_transform(result_x),ss.fit_transform(result_y))\n",
    "svr.fit(ss.fit_transform(result_x),ss.fit_transform(result_y))\n",
    "dtr.fit(ss.fit_transform(result_x),ss.fit_transform(result_y))"
   ]
  },
  {
   "cell_type": "code",
   "execution_count": 342,
   "metadata": {},
   "outputs": [
    {
     "name": "stdout",
     "output_type": "stream",
     "text": [
      "TRAIN ACC:\n",
      "RandomForest acc:  0.6289575757134239\n",
      "AdaBoost acc:  0.5796293594234023\n",
      "GradientBoost acc:  0.7015178308381743\n",
      "SVR acc:  0.6428851530259195\n",
      "DTR acc:  0.5385464582704627\n"
     ]
    }
   ],
   "source": [
    "print(\"TRAIN ACC:\")\n",
    "print('RandomForest acc: ',rf.score(ss.fit_transform(result_x),ss.fit_transform(result_y)))\n",
    "print('AdaBoost acc: ',ab.score(ss.fit_transform(result_x),ss.fit_transform(result_y)))\n",
    "print('GradientBoost acc: ',gb.score(ss.fit_transform(result_x),ss.fit_transform(result_y)))\n",
    "print(\"SVR acc: \",svr.score(ss.fit_transform(result_x),ss.fit_transform(result_y)))\n",
    "print(\"DTR acc: \" ,dtr.score(ss.fit_transform(result_x),ss.fit_transform(result_y)))\n"
   ]
  },
  {
   "cell_type": "code",
   "execution_count": 343,
   "metadata": {},
   "outputs": [
    {
     "name": "stdout",
     "output_type": "stream",
     "text": [
      "RandomForest acc:  0.7197868423483622\n",
      "AdaBoost acc:  0.7012408685449586\n",
      "GradientBoost acc:  0.7193214860992848\n",
      "SVR acc:  0.6287668456471512\n",
      "DTR acc:  0.5651492931616453\n"
     ]
    }
   ],
   "source": [
    "print('RandomForest acc: ',rf.score(ss.fit_transform(x_test),ss.fit_transform(y_test)))\n",
    "print('AdaBoost acc: ',ab.score(ss.fit_transform(x_test),ss.fit_transform(y_test)))\n",
    "print('GradientBoost acc: ',gb.score(ss.fit_transform(x_test),ss.fit_transform(y_test)))\n",
    "print(\"SVR acc: \",svr.score(ss.fit_transform(x_test),ss.fit_transform(y_test)))\n",
    "print(\"DTR acc: \", dtr.score(ss.fit_transform(x_test),ss.fit_transform(y_test)))\n"
   ]
  },
  {
   "cell_type": "markdown",
   "metadata": {},
   "source": [
    "# feature selection\n"
   ]
  },
  {
   "cell_type": "code",
   "execution_count": 344,
   "metadata": {},
   "outputs": [],
   "source": [
    "#rfe=RFE(gb,n_features_to_select=None)\n",
    "#rfe.fit(result_x,result_y)"
   ]
  },
  {
   "cell_type": "code",
   "execution_count": 345,
   "metadata": {},
   "outputs": [],
   "source": [
    "#rfe.ranking_\n",
    "# 1 array([1, 1, 2, 1, 4, 1, 1, 3, 1, 8, 6, 5, 7]) #FEATURE SELECTION OF ORIGINAL DATASET (PRIORITY)\n",
    "# 4 array([1, 1, 4, 1, 8, 1, 5, 2, 6, 1, 1, 3, 7]) #feature selection of synthetic dataset  "
   ]
  },
  {
   "cell_type": "code",
   "execution_count": 346,
   "metadata": {},
   "outputs": [
    {
     "data": {
      "text/html": [
       "<div>\n",
       "<style scoped>\n",
       "    .dataframe tbody tr th:only-of-type {\n",
       "        vertical-align: middle;\n",
       "    }\n",
       "\n",
       "    .dataframe tbody tr th {\n",
       "        vertical-align: top;\n",
       "    }\n",
       "\n",
       "    .dataframe thead th {\n",
       "        text-align: right;\n",
       "    }\n",
       "</style>\n",
       "<table border=\"1\" class=\"dataframe\">\n",
       "  <thead>\n",
       "    <tr style=\"text-align: right;\">\n",
       "      <th></th>\n",
       "      <th>patient_age</th>\n",
       "      <th>patient_gender</th>\n",
       "      <th>Ht</th>\n",
       "      <th>Wt</th>\n",
       "      <th>HB</th>\n",
       "      <th>UREA</th>\n",
       "      <th>CR</th>\n",
       "      <th>Na</th>\n",
       "      <th>K</th>\n",
       "      <th>FBS</th>\n",
       "      <th>HBA1C</th>\n",
       "      <th>SGOT</th>\n",
       "      <th>SGPT</th>\n",
       "    </tr>\n",
       "  </thead>\n",
       "  <tbody>\n",
       "    <tr>\n",
       "      <th>0</th>\n",
       "      <td>85.0</td>\n",
       "      <td>0</td>\n",
       "      <td>159.4</td>\n",
       "      <td>65.55</td>\n",
       "      <td>14.85</td>\n",
       "      <td>109.49</td>\n",
       "      <td>1.09</td>\n",
       "      <td>136.0</td>\n",
       "      <td>3.82</td>\n",
       "      <td>88.0</td>\n",
       "      <td>9.58</td>\n",
       "      <td>21.3</td>\n",
       "      <td>17.89</td>\n",
       "    </tr>\n",
       "    <tr>\n",
       "      <th>1</th>\n",
       "      <td>68.0</td>\n",
       "      <td>1</td>\n",
       "      <td>165.2</td>\n",
       "      <td>76.51</td>\n",
       "      <td>12.08</td>\n",
       "      <td>23.23</td>\n",
       "      <td>0.98</td>\n",
       "      <td>136.0</td>\n",
       "      <td>3.88</td>\n",
       "      <td>93.0</td>\n",
       "      <td>7.06</td>\n",
       "      <td>17.1</td>\n",
       "      <td>21.71</td>\n",
       "    </tr>\n",
       "    <tr>\n",
       "      <th>2</th>\n",
       "      <td>71.0</td>\n",
       "      <td>0</td>\n",
       "      <td>161.3</td>\n",
       "      <td>48.44</td>\n",
       "      <td>13.98</td>\n",
       "      <td>116.46</td>\n",
       "      <td>0.69</td>\n",
       "      <td>132.0</td>\n",
       "      <td>4.57</td>\n",
       "      <td>106.0</td>\n",
       "      <td>9.42</td>\n",
       "      <td>27.2</td>\n",
       "      <td>26.71</td>\n",
       "    </tr>\n",
       "    <tr>\n",
       "      <th>3</th>\n",
       "      <td>19.0</td>\n",
       "      <td>0</td>\n",
       "      <td>164.6</td>\n",
       "      <td>84.93</td>\n",
       "      <td>13.50</td>\n",
       "      <td>28.40</td>\n",
       "      <td>0.58</td>\n",
       "      <td>140.0</td>\n",
       "      <td>4.17</td>\n",
       "      <td>103.0</td>\n",
       "      <td>4.60</td>\n",
       "      <td>22.1</td>\n",
       "      <td>28.57</td>\n",
       "    </tr>\n",
       "    <tr>\n",
       "      <th>4</th>\n",
       "      <td>59.0</td>\n",
       "      <td>0</td>\n",
       "      <td>158.4</td>\n",
       "      <td>75.69</td>\n",
       "      <td>12.56</td>\n",
       "      <td>97.65</td>\n",
       "      <td>1.35</td>\n",
       "      <td>131.0</td>\n",
       "      <td>4.08</td>\n",
       "      <td>87.0</td>\n",
       "      <td>6.61</td>\n",
       "      <td>19.6</td>\n",
       "      <td>20.07</td>\n",
       "    </tr>\n",
       "    <tr>\n",
       "      <th>...</th>\n",
       "      <td>...</td>\n",
       "      <td>...</td>\n",
       "      <td>...</td>\n",
       "      <td>...</td>\n",
       "      <td>...</td>\n",
       "      <td>...</td>\n",
       "      <td>...</td>\n",
       "      <td>...</td>\n",
       "      <td>...</td>\n",
       "      <td>...</td>\n",
       "      <td>...</td>\n",
       "      <td>...</td>\n",
       "      <td>...</td>\n",
       "    </tr>\n",
       "    <tr>\n",
       "      <th>13</th>\n",
       "      <td>47.0</td>\n",
       "      <td>1</td>\n",
       "      <td>158.0</td>\n",
       "      <td>70.00</td>\n",
       "      <td>14.81</td>\n",
       "      <td>106.40</td>\n",
       "      <td>0.86</td>\n",
       "      <td>135.0</td>\n",
       "      <td>4.10</td>\n",
       "      <td>83.0</td>\n",
       "      <td>5.80</td>\n",
       "      <td>22.8</td>\n",
       "      <td>24.80</td>\n",
       "    </tr>\n",
       "    <tr>\n",
       "      <th>124</th>\n",
       "      <td>19.0</td>\n",
       "      <td>0</td>\n",
       "      <td>160.0</td>\n",
       "      <td>68.00</td>\n",
       "      <td>14.44</td>\n",
       "      <td>107.77</td>\n",
       "      <td>0.95</td>\n",
       "      <td>135.0</td>\n",
       "      <td>4.10</td>\n",
       "      <td>83.0</td>\n",
       "      <td>4.93</td>\n",
       "      <td>22.8</td>\n",
       "      <td>24.80</td>\n",
       "    </tr>\n",
       "    <tr>\n",
       "      <th>17</th>\n",
       "      <td>67.0</td>\n",
       "      <td>0</td>\n",
       "      <td>154.0</td>\n",
       "      <td>65.20</td>\n",
       "      <td>13.70</td>\n",
       "      <td>33.30</td>\n",
       "      <td>1.38</td>\n",
       "      <td>141.0</td>\n",
       "      <td>4.20</td>\n",
       "      <td>83.0</td>\n",
       "      <td>5.80</td>\n",
       "      <td>22.8</td>\n",
       "      <td>24.80</td>\n",
       "    </tr>\n",
       "    <tr>\n",
       "      <th>306</th>\n",
       "      <td>22.0</td>\n",
       "      <td>0</td>\n",
       "      <td>154.0</td>\n",
       "      <td>51.00</td>\n",
       "      <td>14.76</td>\n",
       "      <td>107.52</td>\n",
       "      <td>0.98</td>\n",
       "      <td>135.0</td>\n",
       "      <td>4.10</td>\n",
       "      <td>83.0</td>\n",
       "      <td>5.80</td>\n",
       "      <td>22.8</td>\n",
       "      <td>24.80</td>\n",
       "    </tr>\n",
       "    <tr>\n",
       "      <th>24</th>\n",
       "      <td>67.0</td>\n",
       "      <td>1</td>\n",
       "      <td>158.0</td>\n",
       "      <td>60.50</td>\n",
       "      <td>15.29</td>\n",
       "      <td>107.17</td>\n",
       "      <td>0.86</td>\n",
       "      <td>135.0</td>\n",
       "      <td>4.10</td>\n",
       "      <td>83.0</td>\n",
       "      <td>11.84</td>\n",
       "      <td>22.8</td>\n",
       "      <td>24.80</td>\n",
       "    </tr>\n",
       "  </tbody>\n",
       "</table>\n",
       "<p>760 rows × 13 columns</p>\n",
       "</div>"
      ],
      "text/plain": [
       "     patient_age  patient_gender     Ht     Wt     HB    UREA    CR     Na  \\\n",
       "0           85.0               0  159.4  65.55  14.85  109.49  1.09  136.0   \n",
       "1           68.0               1  165.2  76.51  12.08   23.23  0.98  136.0   \n",
       "2           71.0               0  161.3  48.44  13.98  116.46  0.69  132.0   \n",
       "3           19.0               0  164.6  84.93  13.50   28.40  0.58  140.0   \n",
       "4           59.0               0  158.4  75.69  12.56   97.65  1.35  131.0   \n",
       "..           ...             ...    ...    ...    ...     ...   ...    ...   \n",
       "13          47.0               1  158.0  70.00  14.81  106.40  0.86  135.0   \n",
       "124         19.0               0  160.0  68.00  14.44  107.77  0.95  135.0   \n",
       "17          67.0               0  154.0  65.20  13.70   33.30  1.38  141.0   \n",
       "306         22.0               0  154.0  51.00  14.76  107.52  0.98  135.0   \n",
       "24          67.0               1  158.0  60.50  15.29  107.17  0.86  135.0   \n",
       "\n",
       "        K    FBS  HBA1C  SGOT   SGPT  \n",
       "0    3.82   88.0   9.58  21.3  17.89  \n",
       "1    3.88   93.0   7.06  17.1  21.71  \n",
       "2    4.57  106.0   9.42  27.2  26.71  \n",
       "3    4.17  103.0   4.60  22.1  28.57  \n",
       "4    4.08   87.0   6.61  19.6  20.07  \n",
       "..    ...    ...    ...   ...    ...  \n",
       "13   4.10   83.0   5.80  22.8  24.80  \n",
       "124  4.10   83.0   4.93  22.8  24.80  \n",
       "17   4.20   83.0   5.80  22.8  24.80  \n",
       "306  4.10   83.0   5.80  22.8  24.80  \n",
       "24   4.10   83.0  11.84  22.8  24.80  \n",
       "\n",
       "[760 rows x 13 columns]"
      ]
     },
     "execution_count": 346,
     "metadata": {},
     "output_type": "execute_result"
    }
   ],
   "source": [
    "result_x"
   ]
  },
  {
   "cell_type": "code",
   "execution_count": 347,
   "metadata": {},
   "outputs": [],
   "source": [
    "result_x.drop(axis=1,labels=['HBA1C','FBS','Na','HB','Ht','SGOT','SGPT'],inplace=True)\n",
    "x_test.drop(axis=1,labels=['HBA1C','FBS','Na','HB','Ht','SGOT','SGPT'],inplace=True)\n"
   ]
  },
  {
   "cell_type": "code",
   "execution_count": 348,
   "metadata": {},
   "outputs": [
    {
     "data": {
      "text/plain": [
       "(760, 6)"
      ]
     },
     "execution_count": 348,
     "metadata": {},
     "output_type": "execute_result"
    }
   ],
   "source": [
    "result_x.shape"
   ]
  },
  {
   "cell_type": "code",
   "execution_count": 349,
   "metadata": {},
   "outputs": [
    {
     "name": "stderr",
     "output_type": "stream",
     "text": [
      "C:\\Users\\KARAN\\AppData\\Local\\Temp\\ipykernel_24520\\3228913291.py:1: DataConversionWarning: A column-vector y was passed when a 1d array was expected. Please change the shape of y to (n_samples,), for example using ravel().\n",
      "  rf.fit(ss.fit_transform(result_x),ss.fit_transform(result_y))\n",
      "c:\\Users\\KARAN\\AppData\\Local\\Programs\\Orange\\lib\\site-packages\\sklearn\\utils\\validation.py:993: DataConversionWarning: A column-vector y was passed when a 1d array was expected. Please change the shape of y to (n_samples, ), for example using ravel().\n",
      "  y = column_or_1d(y, warn=True)\n",
      "c:\\Users\\KARAN\\AppData\\Local\\Programs\\Orange\\lib\\site-packages\\sklearn\\ensemble\\_gb.py:494: DataConversionWarning: A column-vector y was passed when a 1d array was expected. Please change the shape of y to (n_samples, ), for example using ravel().\n",
      "  y = column_or_1d(y, warn=True)\n",
      "c:\\Users\\KARAN\\AppData\\Local\\Programs\\Orange\\lib\\site-packages\\sklearn\\utils\\validation.py:993: DataConversionWarning: A column-vector y was passed when a 1d array was expected. Please change the shape of y to (n_samples, ), for example using ravel().\n",
      "  y = column_or_1d(y, warn=True)\n"
     ]
    },
    {
     "data": {
      "text/plain": [
       "DecisionTreeRegressor(max_depth=4)"
      ]
     },
     "execution_count": 349,
     "metadata": {},
     "output_type": "execute_result"
    }
   ],
   "source": [
    "rf.fit(ss.fit_transform(result_x),ss.fit_transform(result_y))\n",
    "ab.fit(ss.fit_transform(result_x),ss.fit_transform(result_y))\n",
    "gb.fit(ss.fit_transform(result_x),ss.fit_transform(result_y))\n",
    "svr.fit(ss.fit_transform(result_x),ss.fit_transform(result_y))\n",
    "dtr.fit(ss.fit_transform(result_x),ss.fit_transform(result_y))"
   ]
  },
  {
   "cell_type": "markdown",
   "metadata": {},
   "source": [
    "## Train acc on synthetic dataset\n"
   ]
  },
  {
   "cell_type": "code",
   "execution_count": 350,
   "metadata": {},
   "outputs": [
    {
     "name": "stdout",
     "output_type": "stream",
     "text": [
      "TRAIN ACC:\n",
      "RandomForest acc:  0.6103566437815893\n",
      "AdaBoost acc:  0.553316810778206\n",
      "GradientBoost acc:  0.671545741839573\n",
      "SVR acc:  0.5653307529474554\n",
      "DTR acc:  0.5139163921932459\n"
     ]
    }
   ],
   "source": [
    "print(\"TRAIN ACC:\")\n",
    "print('RandomForest acc: ',rf.score(ss.fit_transform(result_x),ss.fit_transform(result_y)))\n",
    "print('AdaBoost acc: ',ab.score(ss.fit_transform(result_x),ss.fit_transform(result_y)))\n",
    "print('GradientBoost acc: ',gb.score(ss.fit_transform(result_x),ss.fit_transform(result_y)))\n",
    "print(\"SVR acc: \",svr.score(ss.fit_transform(result_x),ss.fit_transform(result_y)))\n",
    "print(\"DTR acc: \" ,dtr.score(ss.fit_transform(result_x),ss.fit_transform(result_y)))\n"
   ]
  },
  {
   "cell_type": "markdown",
   "metadata": {},
   "source": [
    "# Test accuracy on actual dataset \n"
   ]
  },
  {
   "cell_type": "code",
   "execution_count": 351,
   "metadata": {},
   "outputs": [
    {
     "name": "stdout",
     "output_type": "stream",
     "text": [
      "TEST ACC:\n",
      "RandomForest acc:  0.7359475851785496\n",
      "AdaBoost acc:  0.6159485440038004\n",
      "GradientBoost acc:  0.720284152180525\n",
      "SVR acc:  0.6567837406216598\n",
      "DTR acc:  0.5651537456624041\n"
     ]
    }
   ],
   "source": [
    "print(\"TEST ACC:\")\n",
    "print('RandomForest acc: ',rf.score(ss.fit_transform(x_test),ss.fit_transform(y_test)))\n",
    "print('AdaBoost acc: ',ab.score(ss.fit_transform(x_test),ss.fit_transform(y_test)))\n",
    "print('GradientBoost acc: ',gb.score(ss.fit_transform(x_test),ss.fit_transform(y_test)))\n",
    "print(\"SVR acc: \",svr.score(ss.fit_transform(x_test),ss.fit_transform(y_test)))\n",
    "print(\"DTR acc: \", dtr.score(ss.fit_transform(x_test),ss.fit_transform(y_test)))\n"
   ]
  },
  {
   "cell_type": "code",
   "execution_count": null,
   "metadata": {},
   "outputs": [],
   "source": []
  },
  {
   "cell_type": "markdown",
   "metadata": {},
   "source": [
    "##### THE TEST ACC IS SOMETIMES HIGHER AS FEATURE SELECTION WAS DONE BASED ON THE ORIGINAL DATASET, THEREFORE SYNTHETIC DATASET PERFORMS WITH LOWER ACCURACY BUT GIVES HIGH ON TEST"
   ]
  },
  {
   "cell_type": "code",
   "execution_count": 352,
   "metadata": {},
   "outputs": [],
   "source": [
    "rf1=metrics.mean_squared_error(ss.fit_transform(y_test),rf.predict(ss.fit_transform(x_test)))\n",
    "rf2=metrics.mean_absolute_error(ss.fit_transform(y_test),rf.predict(ss.fit_transform(x_test)))**0.5\n",
    "gb1=metrics.mean_squared_error(ss.fit_transform(y_test),gb.predict(ss.fit_transform(x_test)))\n",
    "gb2=metrics.mean_absolute_error(ss.fit_transform(y_test),gb.predict(ss.fit_transform(x_test)))**0.5"
   ]
  },
  {
   "cell_type": "code",
   "execution_count": 353,
   "metadata": {},
   "outputs": [
    {
     "name": "stdout",
     "output_type": "stream",
     "text": [
      "RF: 0.26405241482145037 0.6272053873417252 \n",
      "GB: 0.279715847819475 0.6295649390700204\n"
     ]
    }
   ],
   "source": [
    "print(\"RF:\",rf1,rf2,\"\\nGB:\",gb1,gb2)"
   ]
  }
 ],
 "metadata": {
  "kernelspec": {
   "display_name": "Python 3.8.8",
   "language": "python",
   "name": "python3"
  },
  "language_info": {
   "codemirror_mode": {
    "name": "ipython",
    "version": 3
   },
   "file_extension": ".py",
   "mimetype": "text/x-python",
   "name": "python",
   "nbconvert_exporter": "python",
   "pygments_lexer": "ipython3",
   "version": "3.8.8"
  },
  "orig_nbformat": 4,
  "vscode": {
   "interpreter": {
    "hash": "c05ca82ce18ed22a4f93f09f0540881bf83579a8196b267712eded033fbf7611"
   }
  }
 },
 "nbformat": 4,
 "nbformat_minor": 2
}
