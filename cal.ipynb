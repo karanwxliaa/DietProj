{
 "cells": [
  {
   "cell_type": "code",
   "execution_count": 6,
   "metadata": {},
   "outputs": [],
   "source": [
    "import numpy as np\n",
    "import pandas as pd\n",
    "import seaborn as sns\n",
    "import matplotlib.pyplot as plt\n",
    "from tqdm import tqdm\n",
    "from sklearn.preprocessing import MinMaxScaler as MMS\n",
    "from sklearn.preprocessing import StandardScaler as SS\n",
    "import re\n",
    "import random\n",
    "from sklearn.model_selection import train_test_split\n",
    "from sklearn.linear_model import LinearRegression\n",
    "from sklearn.linear_model import ElasticNet\n",
    "from sklearn.ensemble import RandomForestRegressor\n",
    "from sklearn.ensemble import GradientBoostingRegressor\n",
    "from sklearn.ensemble import AdaBoostRegressor\n",
    "from sklearn import metrics\n",
    "from sklearn.discriminant_analysis import LinearDiscriminantAnalysis as LDA\n",
    "from sklearn.discriminant_analysis import QuadraticDiscriminantAnalysis as QDA\n",
    "from sklearn.decomposition import PCA\n",
    "from sklearn.gaussian_process import GaussianProcessRegressor\n",
    "from sklearn.linear_model import LogisticRegression\n",
    "from sklearn.gaussian_process.kernels import DotProduct, WhiteKernel\n",
    "from sklearn.feature_selection import RFE\n",
    "from sklearn.tree import DecisionTreeRegressor\n",
    "from sklearn.svm import SVR"
   ]
  },
  {
   "cell_type": "code",
   "execution_count": 7,
   "metadata": {},
   "outputs": [],
   "source": [
    "ss=SS()"
   ]
  },
  {
   "cell_type": "code",
   "execution_count": 8,
   "metadata": {},
   "outputs": [],
   "source": [
    "fh=open('calmetrics.txt','a')"
   ]
  },
  {
   "cell_type": "code",
   "execution_count": 9,
   "metadata": {},
   "outputs": [],
   "source": [
    "fh.writelines(\"Calories Metrics File\")"
   ]
  },
  {
   "cell_type": "code",
   "execution_count": 10,
   "metadata": {},
   "outputs": [],
   "source": [
    "df=pd.read_csv('../train_data_329x19.csv')\n",
    "df.drop(axis=1,labels='Unnamed: 0',inplace=True)\n",
    "df.dropna(axis=0,inplace=True)\n",
    "df.reset_index(drop=True,inplace=True)\n",
    "x=df.iloc[:,:13]\n",
    "\n",
    "y=df.iloc[:,13:14]\n",
    "\n",
    "\n"
   ]
  },
  {
   "cell_type": "code",
   "execution_count": 11,
   "metadata": {},
   "outputs": [
    {
     "name": "stdout",
     "output_type": "stream",
     "text": [
      "SHAPE: \n",
      "x Shape:  (325, 13)\n",
      "y Shape:  (325, 1)\n"
     ]
    }
   ],
   "source": [
    "print(\"SHAPE: \")\n",
    "print(\"x Shape: \",x.shape)\n",
    "print(\"y Shape: \",y.shape)"
   ]
  },
  {
   "cell_type": "markdown",
   "metadata": {},
   "source": [
    "# TRAIN-TEST SPLIT"
   ]
  },
  {
   "cell_type": "code",
   "execution_count": 12,
   "metadata": {},
   "outputs": [],
   "source": [
    "x_train,x_test,y_train,y_test=train_test_split(x,y,test_size=0.2,random_state=1);"
   ]
  },
  {
   "cell_type": "code",
   "execution_count": 13,
   "metadata": {},
   "outputs": [],
   "source": [
    "lr=LinearRegression()\n",
    "en=ElasticNet()\n",
    "rf=RandomForestRegressor(n_estimators=1000,max_depth=5,criterion='absolute_error')\n",
    "ab=AdaBoostRegressor()\n",
    "gb=GradientBoostingRegressor(n_estimators=200,max_depth=3,loss='huber',alpha=0.4,criterion='squared_error',learning_rate=0.1)\n",
    "pca=PCA(whiten=True)\n",
    "lda=LDA()\n",
    "gpr=GaussianProcessRegressor(kernel=WhiteKernel()+DotProduct())\n",
    "svr=SVR()\n",
    "dtr=DecisionTreeRegressor(criterion='squared_error',max_depth=4)"
   ]
  },
  {
   "cell_type": "markdown",
   "metadata": {},
   "source": [
    "# FIT"
   ]
  },
  {
   "cell_type": "code",
   "execution_count": 14,
   "metadata": {},
   "outputs": [
    {
     "name": "stderr",
     "output_type": "stream",
     "text": [
      "/var/folders/lr/tv_mh2r13bb7xs3k5qmj606m0000gn/T/ipykernel_55992/2349663518.py:3: DataConversionWarning: A column-vector y was passed when a 1d array was expected. Please change the shape of y to (n_samples,), for example using ravel().\n",
      "  rf.fit(ss.fit_transform(x_train),ss.fit_transform(y_train))\n",
      "/Users/jesherjoshua/Library/Python/3.8/lib/python/site-packages/sklearn/utils/validation.py:1111: DataConversionWarning: A column-vector y was passed when a 1d array was expected. Please change the shape of y to (n_samples, ), for example using ravel().\n",
      "  y = column_or_1d(y, warn=True)\n",
      "/Users/jesherjoshua/Library/Python/3.8/lib/python/site-packages/sklearn/ensemble/_gb.py:570: DataConversionWarning: A column-vector y was passed when a 1d array was expected. Please change the shape of y to (n_samples, ), for example using ravel().\n",
      "  y = column_or_1d(y, warn=True)\n",
      "/Users/jesherjoshua/Library/Python/3.8/lib/python/site-packages/sklearn/utils/validation.py:1111: DataConversionWarning: A column-vector y was passed when a 1d array was expected. Please change the shape of y to (n_samples, ), for example using ravel().\n",
      "  y = column_or_1d(y, warn=True)\n"
     ]
    },
    {
     "data": {
      "text/html": [
       "<style>#sk-container-id-1 {color: black;background-color: white;}#sk-container-id-1 pre{padding: 0;}#sk-container-id-1 div.sk-toggleable {background-color: white;}#sk-container-id-1 label.sk-toggleable__label {cursor: pointer;display: block;width: 100%;margin-bottom: 0;padding: 0.3em;box-sizing: border-box;text-align: center;}#sk-container-id-1 label.sk-toggleable__label-arrow:before {content: \"▸\";float: left;margin-right: 0.25em;color: #696969;}#sk-container-id-1 label.sk-toggleable__label-arrow:hover:before {color: black;}#sk-container-id-1 div.sk-estimator:hover label.sk-toggleable__label-arrow:before {color: black;}#sk-container-id-1 div.sk-toggleable__content {max-height: 0;max-width: 0;overflow: hidden;text-align: left;background-color: #f0f8ff;}#sk-container-id-1 div.sk-toggleable__content pre {margin: 0.2em;color: black;border-radius: 0.25em;background-color: #f0f8ff;}#sk-container-id-1 input.sk-toggleable__control:checked~div.sk-toggleable__content {max-height: 200px;max-width: 100%;overflow: auto;}#sk-container-id-1 input.sk-toggleable__control:checked~label.sk-toggleable__label-arrow:before {content: \"▾\";}#sk-container-id-1 div.sk-estimator input.sk-toggleable__control:checked~label.sk-toggleable__label {background-color: #d4ebff;}#sk-container-id-1 div.sk-label input.sk-toggleable__control:checked~label.sk-toggleable__label {background-color: #d4ebff;}#sk-container-id-1 input.sk-hidden--visually {border: 0;clip: rect(1px 1px 1px 1px);clip: rect(1px, 1px, 1px, 1px);height: 1px;margin: -1px;overflow: hidden;padding: 0;position: absolute;width: 1px;}#sk-container-id-1 div.sk-estimator {font-family: monospace;background-color: #f0f8ff;border: 1px dotted black;border-radius: 0.25em;box-sizing: border-box;margin-bottom: 0.5em;}#sk-container-id-1 div.sk-estimator:hover {background-color: #d4ebff;}#sk-container-id-1 div.sk-parallel-item::after {content: \"\";width: 100%;border-bottom: 1px solid gray;flex-grow: 1;}#sk-container-id-1 div.sk-label:hover label.sk-toggleable__label {background-color: #d4ebff;}#sk-container-id-1 div.sk-serial::before {content: \"\";position: absolute;border-left: 1px solid gray;box-sizing: border-box;top: 0;bottom: 0;left: 50%;z-index: 0;}#sk-container-id-1 div.sk-serial {display: flex;flex-direction: column;align-items: center;background-color: white;padding-right: 0.2em;padding-left: 0.2em;position: relative;}#sk-container-id-1 div.sk-item {position: relative;z-index: 1;}#sk-container-id-1 div.sk-parallel {display: flex;align-items: stretch;justify-content: center;background-color: white;position: relative;}#sk-container-id-1 div.sk-item::before, #sk-container-id-1 div.sk-parallel-item::before {content: \"\";position: absolute;border-left: 1px solid gray;box-sizing: border-box;top: 0;bottom: 0;left: 50%;z-index: -1;}#sk-container-id-1 div.sk-parallel-item {display: flex;flex-direction: column;z-index: 1;position: relative;background-color: white;}#sk-container-id-1 div.sk-parallel-item:first-child::after {align-self: flex-end;width: 50%;}#sk-container-id-1 div.sk-parallel-item:last-child::after {align-self: flex-start;width: 50%;}#sk-container-id-1 div.sk-parallel-item:only-child::after {width: 0;}#sk-container-id-1 div.sk-dashed-wrapped {border: 1px dashed gray;margin: 0 0.4em 0.5em 0.4em;box-sizing: border-box;padding-bottom: 0.4em;background-color: white;}#sk-container-id-1 div.sk-label label {font-family: monospace;font-weight: bold;display: inline-block;line-height: 1.2em;}#sk-container-id-1 div.sk-label-container {text-align: center;}#sk-container-id-1 div.sk-container {/* jupyter's `normalize.less` sets `[hidden] { display: none; }` but bootstrap.min.css set `[hidden] { display: none !important; }` so we also need the `!important` here to be able to override the default hidden behavior on the sphinx rendered scikit-learn.org. See: https://github.com/scikit-learn/scikit-learn/issues/21755 */display: inline-block !important;position: relative;}#sk-container-id-1 div.sk-text-repr-fallback {display: none;}</style><div id=\"sk-container-id-1\" class=\"sk-top-container\"><div class=\"sk-text-repr-fallback\"><pre>DecisionTreeRegressor(max_depth=4)</pre><b>In a Jupyter environment, please rerun this cell to show the HTML representation or trust the notebook. <br />On GitHub, the HTML representation is unable to render, please try loading this page with nbviewer.org.</b></div><div class=\"sk-container\" hidden><div class=\"sk-item\"><div class=\"sk-estimator sk-toggleable\"><input class=\"sk-toggleable__control sk-hidden--visually\" id=\"sk-estimator-id-1\" type=\"checkbox\" checked><label for=\"sk-estimator-id-1\" class=\"sk-toggleable__label sk-toggleable__label-arrow\">DecisionTreeRegressor</label><div class=\"sk-toggleable__content\"><pre>DecisionTreeRegressor(max_depth=4)</pre></div></div></div></div></div>"
      ],
      "text/plain": [
       "DecisionTreeRegressor(max_depth=4)"
      ]
     },
     "execution_count": 14,
     "metadata": {},
     "output_type": "execute_result"
    }
   ],
   "source": [
    "lr.fit(ss.fit_transform(x_train),ss.fit_transform(y_train))\n",
    "en.fit(ss.fit_transform(x_train),ss.fit_transform(y_train))\n",
    "rf.fit(ss.fit_transform(x_train),ss.fit_transform(y_train))\n",
    "ab.fit(ss.fit_transform(x_train),ss.fit_transform(y_train))\n",
    "gb.fit(ss.fit_transform(x_train),ss.fit_transform(y_train))\n",
    "pca.fit(ss.fit_transform(x_train),ss.fit_transform(y_train))\n",
    "#lda.fit(x_tr,y_tr.values.reshape(-1,1))\n",
    "gpr.fit(ss.fit_transform(x_train),ss.fit_transform(y_train))\n",
    "svr.fit(ss.fit_transform(x_train),ss.fit_transform(y_train))\n",
    "dtr.fit(ss.fit_transform(x_train),ss.fit_transform(y_train))\n",
    "#lgr.fit(ss.fit_transform(x_train),ss.fit_transform(y_train))"
   ]
  },
  {
   "cell_type": "markdown",
   "metadata": {},
   "source": [
    "# TRAIN ACC BEFORE FEATURE SELECTION:"
   ]
  },
  {
   "cell_type": "code",
   "execution_count": 15,
   "metadata": {},
   "outputs": [
    {
     "name": "stdout",
     "output_type": "stream",
     "text": [
      "TRAIN ACC:\n",
      "LR acc:  0.5257382046514971\n",
      "ElasticNet acc:  0.0\n",
      "RandomForest acc:  0.814124818429765\n",
      "AdaBoost acc:  0.8004730434772455\n",
      "GradientBoost acc:  0.7449769954144858\n",
      "PCA acc:  -19.808963792030557\n",
      "GPR acc:  0.525732947473696\n",
      "SVR acc:  0.6532259311552491\n",
      "DTR acc:  0.8205241993920781\n"
     ]
    }
   ],
   "source": [
    "print(\"TRAIN ACC:\")\n",
    "fh.write(\"TRAIN ACC - BEFORE FEATURE SELECTION:\\n\")\n",
    "print('LR acc: ',lr.score(ss.fit_transform(x_train),ss.fit_transform(y_train)))\n",
    "print('ElasticNet acc: ',en.score(ss.fit_transform(x_train),ss.fit_transform(y_train)))\n",
    "print('RandomForest acc: ',rf.score(ss.fit_transform(x_train),ss.fit_transform(y_train)))\n",
    "print('AdaBoost acc: ',ab.score(ss.fit_transform(x_train),ss.fit_transform(y_train)))\n",
    "print('GradientBoost acc: ',gb.score(ss.fit_transform(x_train),ss.fit_transform(y_train)))\n",
    "fh.write(\"Gradient Boosting acc: \"+str(gb.score(ss.fit_transform(x_train),ss.fit_transform(y_train)))+\"\\n\")\n",
    "\n",
    "print(\"PCA acc: \",pca.score(ss.fit_transform(x_train),ss.fit_transform(y_train)))\n",
    "print(\"GPR acc: \",gpr.score(ss.fit_transform(x_train),ss.fit_transform(y_train)))\n",
    "#print(\"LGR acc: \",lgr.score(ss.fit_transform(x_train),ss.fit_transform(y_train)))\n",
    "print(\"SVR acc: \",svr.score(ss.fit_transform(x_train),ss.fit_transform(y_train)))\n",
    "print(\"DTR acc: \" ,dtr.score(ss.fit_transform(x_train),ss.fit_transform(y_train)))\n"
   ]
  },
  {
   "cell_type": "markdown",
   "metadata": {},
   "source": [
    "# TEST ACC BEFORE FEATURE SELECTION:"
   ]
  },
  {
   "cell_type": "code",
   "execution_count": 16,
   "metadata": {},
   "outputs": [
    {
     "name": "stdout",
     "output_type": "stream",
     "text": [
      "TEST ACC:\n",
      "LR acc:  0.5959160543139788\n",
      "ElasticNet acc:  0.0\n",
      "RandomForest acc:  0.5428901794268683\n",
      "AdaBoost acc:  0.5338488643195178\n",
      "GradientBoost acc:  0.6960742603142827\n",
      "PCA acc:  -29.289681240235907\n",
      "GPR acc:  0.5969956590067935\n",
      "SVR acc:  0.6532259311552491\n",
      "DTR acc:  0.8205241993920781\n"
     ]
    }
   ],
   "source": [
    "print(\"TEST ACC:\")\n",
    "fh.write(\"TEST ACC - BEFORE FEATURE SELECTION:\\n\")\n",
    "\n",
    "print('LR acc: ',lr.score(ss.fit_transform(x_test),ss.fit_transform(y_test)))\n",
    "print('ElasticNet acc: ',en.score(ss.fit_transform(x_test),ss.fit_transform(y_test)))\n",
    "print('RandomForest acc: ',rf.score(ss.fit_transform(x_test),ss.fit_transform(y_test)))\n",
    "print('AdaBoost acc: ',ab.score(ss.fit_transform(x_test),ss.fit_transform(y_test)))\n",
    "print('GradientBoost acc: ',gb.score(ss.fit_transform(x_test),ss.fit_transform(y_test)))\n",
    "fh.write(\"Gradient Boosting acc: \"+str(gb.score(ss.fit_transform(x_test),ss.fit_transform(y_test)))+\"\\n\")\n",
    "print(\"PCA acc: \",pca.score(ss.fit_transform(x_test),ss.fit_transform(y_test)))\n",
    "print(\"GPR acc: \",gpr.score(ss.fit_transform(x_test),ss.fit_transform(y_test)))\n",
    "print(\"SVR acc: \",svr.score(ss.fit_transform(x_train),ss.fit_transform(y_train)))\n",
    "print(\"DTR acc: \", dtr.score(ss.fit_transform(x_train),ss.fit_transform(y_train)))\n"
   ]
  },
  {
   "cell_type": "markdown",
   "metadata": {},
   "source": [
    "# FEATURE SELECTION:"
   ]
  },
  {
   "cell_type": "code",
   "execution_count": 17,
   "metadata": {},
   "outputs": [
    {
     "name": "stdout",
     "output_type": "stream",
     "text": [
      "patient_age 37.76555072274741\n",
      "patient_gender 24.201685158125212\n",
      "Ht 0.6751808611145705\n",
      "Wt 33.63024004056989\n",
      "HB 0.17750449358176593\n",
      "UREA 0.602010207768469\n",
      "CR 1.2081040196771664\n",
      "Na 0.558868680597646\n",
      "K 0.6410534102823446\n",
      "FBS 0.000578413764597734\n",
      "HBA1C 0.22396389402932118\n",
      "SGOT 0.28457569997458815\n",
      "SGPT 0.030684397767034143\n"
     ]
    }
   ],
   "source": [
    "\n",
    "\n",
    "for h,i in enumerate(gb.feature_importances_):\n",
    "    #print(y.columns[h],i)\n",
    "    print(df.columns[h],i*100)"
   ]
  },
  {
   "cell_type": "code",
   "execution_count": 18,
   "metadata": {},
   "outputs": [
    {
     "name": "stderr",
     "output_type": "stream",
     "text": [
      "/Users/jesherjoshua/Library/Python/3.8/lib/python/site-packages/sklearn/ensemble/_gb.py:570: DataConversionWarning: A column-vector y was passed when a 1d array was expected. Please change the shape of y to (n_samples, ), for example using ravel().\n",
      "  y = column_or_1d(y, warn=True)\n",
      "/Users/jesherjoshua/Library/Python/3.8/lib/python/site-packages/sklearn/ensemble/_gb.py:570: DataConversionWarning: A column-vector y was passed when a 1d array was expected. Please change the shape of y to (n_samples, ), for example using ravel().\n",
      "  y = column_or_1d(y, warn=True)\n",
      "/Users/jesherjoshua/Library/Python/3.8/lib/python/site-packages/sklearn/ensemble/_gb.py:570: DataConversionWarning: A column-vector y was passed when a 1d array was expected. Please change the shape of y to (n_samples, ), for example using ravel().\n",
      "  y = column_or_1d(y, warn=True)\n",
      "/Users/jesherjoshua/Library/Python/3.8/lib/python/site-packages/sklearn/ensemble/_gb.py:570: DataConversionWarning: A column-vector y was passed when a 1d array was expected. Please change the shape of y to (n_samples, ), for example using ravel().\n",
      "  y = column_or_1d(y, warn=True)\n",
      "/Users/jesherjoshua/Library/Python/3.8/lib/python/site-packages/sklearn/ensemble/_gb.py:570: DataConversionWarning: A column-vector y was passed when a 1d array was expected. Please change the shape of y to (n_samples, ), for example using ravel().\n",
      "  y = column_or_1d(y, warn=True)\n",
      "/Users/jesherjoshua/Library/Python/3.8/lib/python/site-packages/sklearn/ensemble/_gb.py:570: DataConversionWarning: A column-vector y was passed when a 1d array was expected. Please change the shape of y to (n_samples, ), for example using ravel().\n",
      "  y = column_or_1d(y, warn=True)\n",
      "/Users/jesherjoshua/Library/Python/3.8/lib/python/site-packages/sklearn/ensemble/_gb.py:570: DataConversionWarning: A column-vector y was passed when a 1d array was expected. Please change the shape of y to (n_samples, ), for example using ravel().\n",
      "  y = column_or_1d(y, warn=True)\n",
      "/Users/jesherjoshua/Library/Python/3.8/lib/python/site-packages/sklearn/ensemble/_gb.py:570: DataConversionWarning: A column-vector y was passed when a 1d array was expected. Please change the shape of y to (n_samples, ), for example using ravel().\n",
      "  y = column_or_1d(y, warn=True)\n"
     ]
    },
    {
     "data": {
      "text/html": [
       "<style>#sk-container-id-2 {color: black;background-color: white;}#sk-container-id-2 pre{padding: 0;}#sk-container-id-2 div.sk-toggleable {background-color: white;}#sk-container-id-2 label.sk-toggleable__label {cursor: pointer;display: block;width: 100%;margin-bottom: 0;padding: 0.3em;box-sizing: border-box;text-align: center;}#sk-container-id-2 label.sk-toggleable__label-arrow:before {content: \"▸\";float: left;margin-right: 0.25em;color: #696969;}#sk-container-id-2 label.sk-toggleable__label-arrow:hover:before {color: black;}#sk-container-id-2 div.sk-estimator:hover label.sk-toggleable__label-arrow:before {color: black;}#sk-container-id-2 div.sk-toggleable__content {max-height: 0;max-width: 0;overflow: hidden;text-align: left;background-color: #f0f8ff;}#sk-container-id-2 div.sk-toggleable__content pre {margin: 0.2em;color: black;border-radius: 0.25em;background-color: #f0f8ff;}#sk-container-id-2 input.sk-toggleable__control:checked~div.sk-toggleable__content {max-height: 200px;max-width: 100%;overflow: auto;}#sk-container-id-2 input.sk-toggleable__control:checked~label.sk-toggleable__label-arrow:before {content: \"▾\";}#sk-container-id-2 div.sk-estimator input.sk-toggleable__control:checked~label.sk-toggleable__label {background-color: #d4ebff;}#sk-container-id-2 div.sk-label input.sk-toggleable__control:checked~label.sk-toggleable__label {background-color: #d4ebff;}#sk-container-id-2 input.sk-hidden--visually {border: 0;clip: rect(1px 1px 1px 1px);clip: rect(1px, 1px, 1px, 1px);height: 1px;margin: -1px;overflow: hidden;padding: 0;position: absolute;width: 1px;}#sk-container-id-2 div.sk-estimator {font-family: monospace;background-color: #f0f8ff;border: 1px dotted black;border-radius: 0.25em;box-sizing: border-box;margin-bottom: 0.5em;}#sk-container-id-2 div.sk-estimator:hover {background-color: #d4ebff;}#sk-container-id-2 div.sk-parallel-item::after {content: \"\";width: 100%;border-bottom: 1px solid gray;flex-grow: 1;}#sk-container-id-2 div.sk-label:hover label.sk-toggleable__label {background-color: #d4ebff;}#sk-container-id-2 div.sk-serial::before {content: \"\";position: absolute;border-left: 1px solid gray;box-sizing: border-box;top: 0;bottom: 0;left: 50%;z-index: 0;}#sk-container-id-2 div.sk-serial {display: flex;flex-direction: column;align-items: center;background-color: white;padding-right: 0.2em;padding-left: 0.2em;position: relative;}#sk-container-id-2 div.sk-item {position: relative;z-index: 1;}#sk-container-id-2 div.sk-parallel {display: flex;align-items: stretch;justify-content: center;background-color: white;position: relative;}#sk-container-id-2 div.sk-item::before, #sk-container-id-2 div.sk-parallel-item::before {content: \"\";position: absolute;border-left: 1px solid gray;box-sizing: border-box;top: 0;bottom: 0;left: 50%;z-index: -1;}#sk-container-id-2 div.sk-parallel-item {display: flex;flex-direction: column;z-index: 1;position: relative;background-color: white;}#sk-container-id-2 div.sk-parallel-item:first-child::after {align-self: flex-end;width: 50%;}#sk-container-id-2 div.sk-parallel-item:last-child::after {align-self: flex-start;width: 50%;}#sk-container-id-2 div.sk-parallel-item:only-child::after {width: 0;}#sk-container-id-2 div.sk-dashed-wrapped {border: 1px dashed gray;margin: 0 0.4em 0.5em 0.4em;box-sizing: border-box;padding-bottom: 0.4em;background-color: white;}#sk-container-id-2 div.sk-label label {font-family: monospace;font-weight: bold;display: inline-block;line-height: 1.2em;}#sk-container-id-2 div.sk-label-container {text-align: center;}#sk-container-id-2 div.sk-container {/* jupyter's `normalize.less` sets `[hidden] { display: none; }` but bootstrap.min.css set `[hidden] { display: none !important; }` so we also need the `!important` here to be able to override the default hidden behavior on the sphinx rendered scikit-learn.org. See: https://github.com/scikit-learn/scikit-learn/issues/21755 */display: inline-block !important;position: relative;}#sk-container-id-2 div.sk-text-repr-fallback {display: none;}</style><div id=\"sk-container-id-2\" class=\"sk-top-container\"><div class=\"sk-text-repr-fallback\"><pre>RFE(estimator=GradientBoostingRegressor(alpha=0.4, criterion=&#x27;squared_error&#x27;,\n",
       "                                        loss=&#x27;huber&#x27;, n_estimators=200))</pre><b>In a Jupyter environment, please rerun this cell to show the HTML representation or trust the notebook. <br />On GitHub, the HTML representation is unable to render, please try loading this page with nbviewer.org.</b></div><div class=\"sk-container\" hidden><div class=\"sk-item sk-dashed-wrapped\"><div class=\"sk-label-container\"><div class=\"sk-label sk-toggleable\"><input class=\"sk-toggleable__control sk-hidden--visually\" id=\"sk-estimator-id-2\" type=\"checkbox\" ><label for=\"sk-estimator-id-2\" class=\"sk-toggleable__label sk-toggleable__label-arrow\">RFE</label><div class=\"sk-toggleable__content\"><pre>RFE(estimator=GradientBoostingRegressor(alpha=0.4, criterion=&#x27;squared_error&#x27;,\n",
       "                                        loss=&#x27;huber&#x27;, n_estimators=200))</pre></div></div></div><div class=\"sk-parallel\"><div class=\"sk-parallel-item\"><div class=\"sk-item\"><div class=\"sk-label-container\"><div class=\"sk-label sk-toggleable\"><input class=\"sk-toggleable__control sk-hidden--visually\" id=\"sk-estimator-id-3\" type=\"checkbox\" ><label for=\"sk-estimator-id-3\" class=\"sk-toggleable__label sk-toggleable__label-arrow\">estimator: GradientBoostingRegressor</label><div class=\"sk-toggleable__content\"><pre>GradientBoostingRegressor(alpha=0.4, criterion=&#x27;squared_error&#x27;, loss=&#x27;huber&#x27;,\n",
       "                          n_estimators=200)</pre></div></div></div><div class=\"sk-serial\"><div class=\"sk-item\"><div class=\"sk-estimator sk-toggleable\"><input class=\"sk-toggleable__control sk-hidden--visually\" id=\"sk-estimator-id-4\" type=\"checkbox\" ><label for=\"sk-estimator-id-4\" class=\"sk-toggleable__label sk-toggleable__label-arrow\">GradientBoostingRegressor</label><div class=\"sk-toggleable__content\"><pre>GradientBoostingRegressor(alpha=0.4, criterion=&#x27;squared_error&#x27;, loss=&#x27;huber&#x27;,\n",
       "                          n_estimators=200)</pre></div></div></div></div></div></div></div></div></div></div>"
      ],
      "text/plain": [
       "RFE(estimator=GradientBoostingRegressor(alpha=0.4, criterion='squared_error',\n",
       "                                        loss='huber', n_estimators=200))"
      ]
     },
     "execution_count": 18,
     "metadata": {},
     "output_type": "execute_result"
    }
   ],
   "source": [
    "rfe=RFE(gb,n_features_to_select=None)\n",
    "rfe.fit(x_train,y_train)"
   ]
  },
  {
   "cell_type": "code",
   "execution_count": 19,
   "metadata": {},
   "outputs": [
    {
     "data": {
      "text/plain": [
       "array([1, 1, 1, 1, 5, 2, 1, 3, 1, 8, 4, 6, 7])"
      ]
     },
     "execution_count": 19,
     "metadata": {},
     "output_type": "execute_result"
    }
   ],
   "source": [
    "rfe.ranking_"
   ]
  },
  {
   "cell_type": "code",
   "execution_count": 20,
   "metadata": {},
   "outputs": [],
   "source": [
    "x_train.drop(axis=1,labels=['SGPT','FBS','Ht','SGOT','K','Na','CR'],inplace=True)\n",
    "x_test.drop(axis=1,labels=['SGPT','FBS','Ht','SGOT','K','Na','CR'],inplace=True)"
   ]
  },
  {
   "cell_type": "code",
   "execution_count": 21,
   "metadata": {},
   "outputs": [
    {
     "name": "stderr",
     "output_type": "stream",
     "text": [
      "/var/folders/lr/tv_mh2r13bb7xs3k5qmj606m0000gn/T/ipykernel_55992/64151905.py:3: DataConversionWarning: A column-vector y was passed when a 1d array was expected. Please change the shape of y to (n_samples,), for example using ravel().\n",
      "  rf.fit(ss.fit_transform(x_train),ss.fit_transform(y_train))\n",
      "/Users/jesherjoshua/Library/Python/3.8/lib/python/site-packages/sklearn/utils/validation.py:1111: DataConversionWarning: A column-vector y was passed when a 1d array was expected. Please change the shape of y to (n_samples, ), for example using ravel().\n",
      "  y = column_or_1d(y, warn=True)\n",
      "/Users/jesherjoshua/Library/Python/3.8/lib/python/site-packages/sklearn/ensemble/_gb.py:570: DataConversionWarning: A column-vector y was passed when a 1d array was expected. Please change the shape of y to (n_samples, ), for example using ravel().\n",
      "  y = column_or_1d(y, warn=True)\n",
      "/Users/jesherjoshua/Library/Python/3.8/lib/python/site-packages/sklearn/utils/validation.py:1111: DataConversionWarning: A column-vector y was passed when a 1d array was expected. Please change the shape of y to (n_samples, ), for example using ravel().\n",
      "  y = column_or_1d(y, warn=True)\n"
     ]
    },
    {
     "data": {
      "text/html": [
       "<style>#sk-container-id-3 {color: black;background-color: white;}#sk-container-id-3 pre{padding: 0;}#sk-container-id-3 div.sk-toggleable {background-color: white;}#sk-container-id-3 label.sk-toggleable__label {cursor: pointer;display: block;width: 100%;margin-bottom: 0;padding: 0.3em;box-sizing: border-box;text-align: center;}#sk-container-id-3 label.sk-toggleable__label-arrow:before {content: \"▸\";float: left;margin-right: 0.25em;color: #696969;}#sk-container-id-3 label.sk-toggleable__label-arrow:hover:before {color: black;}#sk-container-id-3 div.sk-estimator:hover label.sk-toggleable__label-arrow:before {color: black;}#sk-container-id-3 div.sk-toggleable__content {max-height: 0;max-width: 0;overflow: hidden;text-align: left;background-color: #f0f8ff;}#sk-container-id-3 div.sk-toggleable__content pre {margin: 0.2em;color: black;border-radius: 0.25em;background-color: #f0f8ff;}#sk-container-id-3 input.sk-toggleable__control:checked~div.sk-toggleable__content {max-height: 200px;max-width: 100%;overflow: auto;}#sk-container-id-3 input.sk-toggleable__control:checked~label.sk-toggleable__label-arrow:before {content: \"▾\";}#sk-container-id-3 div.sk-estimator input.sk-toggleable__control:checked~label.sk-toggleable__label {background-color: #d4ebff;}#sk-container-id-3 div.sk-label input.sk-toggleable__control:checked~label.sk-toggleable__label {background-color: #d4ebff;}#sk-container-id-3 input.sk-hidden--visually {border: 0;clip: rect(1px 1px 1px 1px);clip: rect(1px, 1px, 1px, 1px);height: 1px;margin: -1px;overflow: hidden;padding: 0;position: absolute;width: 1px;}#sk-container-id-3 div.sk-estimator {font-family: monospace;background-color: #f0f8ff;border: 1px dotted black;border-radius: 0.25em;box-sizing: border-box;margin-bottom: 0.5em;}#sk-container-id-3 div.sk-estimator:hover {background-color: #d4ebff;}#sk-container-id-3 div.sk-parallel-item::after {content: \"\";width: 100%;border-bottom: 1px solid gray;flex-grow: 1;}#sk-container-id-3 div.sk-label:hover label.sk-toggleable__label {background-color: #d4ebff;}#sk-container-id-3 div.sk-serial::before {content: \"\";position: absolute;border-left: 1px solid gray;box-sizing: border-box;top: 0;bottom: 0;left: 50%;z-index: 0;}#sk-container-id-3 div.sk-serial {display: flex;flex-direction: column;align-items: center;background-color: white;padding-right: 0.2em;padding-left: 0.2em;position: relative;}#sk-container-id-3 div.sk-item {position: relative;z-index: 1;}#sk-container-id-3 div.sk-parallel {display: flex;align-items: stretch;justify-content: center;background-color: white;position: relative;}#sk-container-id-3 div.sk-item::before, #sk-container-id-3 div.sk-parallel-item::before {content: \"\";position: absolute;border-left: 1px solid gray;box-sizing: border-box;top: 0;bottom: 0;left: 50%;z-index: -1;}#sk-container-id-3 div.sk-parallel-item {display: flex;flex-direction: column;z-index: 1;position: relative;background-color: white;}#sk-container-id-3 div.sk-parallel-item:first-child::after {align-self: flex-end;width: 50%;}#sk-container-id-3 div.sk-parallel-item:last-child::after {align-self: flex-start;width: 50%;}#sk-container-id-3 div.sk-parallel-item:only-child::after {width: 0;}#sk-container-id-3 div.sk-dashed-wrapped {border: 1px dashed gray;margin: 0 0.4em 0.5em 0.4em;box-sizing: border-box;padding-bottom: 0.4em;background-color: white;}#sk-container-id-3 div.sk-label label {font-family: monospace;font-weight: bold;display: inline-block;line-height: 1.2em;}#sk-container-id-3 div.sk-label-container {text-align: center;}#sk-container-id-3 div.sk-container {/* jupyter's `normalize.less` sets `[hidden] { display: none; }` but bootstrap.min.css set `[hidden] { display: none !important; }` so we also need the `!important` here to be able to override the default hidden behavior on the sphinx rendered scikit-learn.org. See: https://github.com/scikit-learn/scikit-learn/issues/21755 */display: inline-block !important;position: relative;}#sk-container-id-3 div.sk-text-repr-fallback {display: none;}</style><div id=\"sk-container-id-3\" class=\"sk-top-container\"><div class=\"sk-text-repr-fallback\"><pre>DecisionTreeRegressor(max_depth=4)</pre><b>In a Jupyter environment, please rerun this cell to show the HTML representation or trust the notebook. <br />On GitHub, the HTML representation is unable to render, please try loading this page with nbviewer.org.</b></div><div class=\"sk-container\" hidden><div class=\"sk-item\"><div class=\"sk-estimator sk-toggleable\"><input class=\"sk-toggleable__control sk-hidden--visually\" id=\"sk-estimator-id-5\" type=\"checkbox\" checked><label for=\"sk-estimator-id-5\" class=\"sk-toggleable__label sk-toggleable__label-arrow\">DecisionTreeRegressor</label><div class=\"sk-toggleable__content\"><pre>DecisionTreeRegressor(max_depth=4)</pre></div></div></div></div></div>"
      ],
      "text/plain": [
       "DecisionTreeRegressor(max_depth=4)"
      ]
     },
     "execution_count": 21,
     "metadata": {},
     "output_type": "execute_result"
    }
   ],
   "source": [
    "lr.fit(ss.fit_transform(x_train),ss.fit_transform(y_train))\n",
    "en.fit(ss.fit_transform(x_train),ss.fit_transform(y_train))\n",
    "rf.fit(ss.fit_transform(x_train),ss.fit_transform(y_train))\n",
    "ab.fit(ss.fit_transform(x_train),ss.fit_transform(y_train))\n",
    "gb.fit(ss.fit_transform(x_train),ss.fit_transform(y_train))\n",
    "pca.fit(ss.fit_transform(x_train),ss.fit_transform(y_train))\n",
    "#lda.fit(x_tr,y_tr.values.reshape(-1,1))\n",
    "gpr.fit(ss.fit_transform(x_train),ss.fit_transform(y_train))\n",
    "svr.fit(ss.fit_transform(x_train),ss.fit_transform(y_train))\n",
    "dtr.fit(ss.fit_transform(x_train),ss.fit_transform(y_train))"
   ]
  },
  {
   "cell_type": "code",
   "execution_count": 22,
   "metadata": {},
   "outputs": [
    {
     "name": "stdout",
     "output_type": "stream",
     "text": [
      "TRAIN ACC:\n",
      "LR acc:  0.49122457276961284\n",
      "ElasticNet acc:  0.0\n",
      "RandomForest acc:  0.816890730796933\n",
      "AdaBoost acc:  0.7781992164693061\n",
      "GradientBoost acc:  0.727998566623657\n",
      "PCA acc:  -8.610028349767532\n",
      "GPR acc:  0.49122223244503727\n",
      "SVR acc:  0.6488672497560881\n",
      "DTR acc:  0.8151055099348438\n"
     ]
    }
   ],
   "source": [
    "print(\"TRAIN ACC:\")\n",
    "fh.write(\"TRAIN ACC-AFTER SELECTION:\\n\")\n",
    "print('LR acc: ',lr.score(ss.fit_transform(x_train),ss.fit_transform(y_train)))\n",
    "print('ElasticNet acc: ',en.score(ss.fit_transform(x_train),ss.fit_transform(y_train)))\n",
    "print('RandomForest acc: ',rf.score(ss.fit_transform(x_train),ss.fit_transform(y_train)))\n",
    "print('AdaBoost acc: ',ab.score(ss.fit_transform(x_train),ss.fit_transform(y_train)))\n",
    "print('GradientBoost acc: ',gb.score(ss.fit_transform(x_train),ss.fit_transform(y_train)))\n",
    "fh.write(\"Gradient Boosting acc: \"+str(gb.score(ss.fit_transform(x_train),ss.fit_transform(y_train)))+\"\\n\")\n",
    "print(\"PCA acc: \",pca.score(ss.fit_transform(x_train),ss.fit_transform(y_train)))\n",
    "print(\"GPR acc: \",gpr.score(ss.fit_transform(x_train),ss.fit_transform(y_train)))\n",
    "print(\"SVR acc: \",svr.score(ss.fit_transform(x_train),ss.fit_transform(y_train)))\n",
    "print(\"DTR acc: \" ,dtr.score(ss.fit_transform(x_train),ss.fit_transform(y_train)))\n"
   ]
  },
  {
   "cell_type": "code",
   "execution_count": 23,
   "metadata": {},
   "outputs": [
    {
     "name": "stdout",
     "output_type": "stream",
     "text": [
      "TEST ACC:\n",
      "LR acc:  0.6884477456765687\n",
      "ElasticNet acc:  0.0\n",
      "RandomForest acc:  0.5602339076607286\n",
      "AdaBoost acc:  0.5449918453905667\n",
      "GradientBoost acc:  0.7044506708021054\n",
      "PCA acc:  -8.80609209590141\n",
      "GPR acc:  0.6882427716084202\n",
      "SVR acc:  0.6488672497560881\n",
      "DTR acc:  0.8151055099348438\n"
     ]
    }
   ],
   "source": [
    "print(\"TEST ACC:\")\n",
    "fh.write(\"TEST ACC-AFTER SELECTION:\\n\")\n",
    "print('LR acc: ',lr.score(ss.fit_transform(x_test),ss.fit_transform(y_test)))\n",
    "print('ElasticNet acc: ',en.score(ss.fit_transform(x_test),ss.fit_transform(y_test)))\n",
    "print('RandomForest acc: ',rf.score(ss.fit_transform(x_test),ss.fit_transform(y_test)))\n",
    "print('AdaBoost acc: ',ab.score(ss.fit_transform(x_test),ss.fit_transform(y_test)))\n",
    "print('GradientBoost acc: ',gb.score(ss.fit_transform(x_test),ss.fit_transform(y_test)))\n",
    "fh.write(\"Gradient Boosting acc: \"+str(gb.score(ss.fit_transform(x_test),ss.fit_transform(y_test)))+\"\\n\")\n",
    "print(\"PCA acc: \",pca.score(ss.fit_transform(x_test),ss.fit_transform(y_test)))\n",
    "print(\"GPR acc: \",gpr.score(ss.fit_transform(x_test),ss.fit_transform(y_test)))\n",
    "print(\"SVR acc: \",svr.score(ss.fit_transform(x_train),ss.fit_transform(y_train)))\n",
    "print(\"DTR acc: \", dtr.score(ss.fit_transform(x_train),ss.fit_transform(y_train)))\n"
   ]
  },
  {
   "cell_type": "code",
   "execution_count": 24,
   "metadata": {},
   "outputs": [
    {
     "data": {
      "text/plain": [
       "0.35376702086082534"
      ]
     },
     "execution_count": 24,
     "metadata": {},
     "output_type": "execute_result"
    }
   ],
   "source": [
    "metrics.mean_absolute_error(ss.fit_transform(y_test),gb.predict(ss.fit_transform(x_test)))"
   ]
  },
  {
   "cell_type": "code",
   "execution_count": 25,
   "metadata": {},
   "outputs": [
    {
     "data": {
      "text/plain": [
       "0.7705637971798013"
      ]
     },
     "execution_count": 25,
     "metadata": {},
     "output_type": "execute_result"
    }
   ],
   "source": [
    "metrics.mean_absolute_error(ss.fit_transform(y_test),dtr.predict(ss.fit_transform(x_test)))**0.5"
   ]
  },
  {
   "cell_type": "code",
   "execution_count": null,
   "metadata": {},
   "outputs": [],
   "source": []
  }
 ],
 "metadata": {
  "kernelspec": {
   "display_name": "Python 3.8.10 64-bit",
   "language": "python",
   "name": "python3"
  },
  "language_info": {
   "codemirror_mode": {
    "name": "ipython",
    "version": 3
   },
   "file_extension": ".py",
   "mimetype": "text/x-python",
   "name": "python",
   "nbconvert_exporter": "python",
   "pygments_lexer": "ipython3",
   "version": "3.8.9"
  },
  "orig_nbformat": 4,
  "vscode": {
   "interpreter": {
    "hash": "31f2aee4e71d21fbe5cf8b01ff0e069b9275f58929596ceb00d14d90e3e16cd6"
   }
  }
 },
 "nbformat": 4,
 "nbformat_minor": 2
}
